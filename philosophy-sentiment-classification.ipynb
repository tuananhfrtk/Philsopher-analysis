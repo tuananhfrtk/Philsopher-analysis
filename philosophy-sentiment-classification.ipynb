{
 "cells": [
  {
   "cell_type": "code",
   "execution_count": 1,
   "id": "34b1739f",
   "metadata": {
    "_cell_guid": "b1076dfc-b9ad-4769-8c92-a6c4dae69d19",
    "_uuid": "8f2839f25d086af736a60e9eeb907d3b93b6e0e5",
    "execution": {
     "iopub.execute_input": "2024-04-24T14:47:26.613030Z",
     "iopub.status.busy": "2024-04-24T14:47:26.612597Z",
     "iopub.status.idle": "2024-04-24T14:47:27.634116Z",
     "shell.execute_reply": "2024-04-24T14:47:27.632821Z"
    },
    "papermill": {
     "duration": 1.04023,
     "end_time": "2024-04-24T14:47:27.637100",
     "exception": false,
     "start_time": "2024-04-24T14:47:26.596870",
     "status": "completed"
    },
    "tags": []
   },
   "outputs": [
    {
     "name": "stdout",
     "output_type": "stream",
     "text": [
      "/kaggle/input/history-of-philosophy/philosophy_data.csv\n"
     ]
    }
   ],
   "source": [
    "# This Python 3 environment comes with many helpful analytics libraries installed\n",
    "# It is defined by the kaggle/python Docker image: https://github.com/kaggle/docker-python\n",
    "# For example, here's several helpful packages to load\n",
    "\n",
    "import numpy as np # linear algebra\n",
    "import pandas as pd # data processing, CSV file I/O (e.g. pd.read_csv)\n",
    "\n",
    "# Input data files are available in the read-only \"../input/\" directory\n",
    "# For example, running this (by clicking run or pressing Shift+Enter) will list all files under the input directory\n",
    "\n",
    "import os\n",
    "for dirname, _, filenames in os.walk('/kaggle/input'):\n",
    "    for filename in filenames:\n",
    "        print(os.path.join(dirname, filename))\n",
    "\n",
    "# You can write up to 20GB to the current directory (/kaggle/working/) that gets preserved as output when you create a version using \"Save & Run All\" \n",
    "# You can also write temporary files to /kaggle/temp/, but they won't be saved outside of the current session"
   ]
  },
  {
   "cell_type": "markdown",
   "id": "46461561",
   "metadata": {
    "papermill": {
     "duration": 0.014558,
     "end_time": "2024-04-24T14:47:27.666409",
     "exception": false,
     "start_time": "2024-04-24T14:47:27.651851",
     "status": "completed"
    },
    "tags": []
   },
   "source": [
    "# Loading Data"
   ]
  },
  {
   "cell_type": "code",
   "execution_count": 2,
   "id": "708d0fda",
   "metadata": {
    "execution": {
     "iopub.execute_input": "2024-04-24T14:47:27.696675Z",
     "iopub.status.busy": "2024-04-24T14:47:27.695525Z",
     "iopub.status.idle": "2024-04-24T14:47:30.342005Z",
     "shell.execute_reply": "2024-04-24T14:47:30.340745Z"
    },
    "papermill": {
     "duration": 2.664686,
     "end_time": "2024-04-24T14:47:30.345010",
     "exception": false,
     "start_time": "2024-04-24T14:47:27.680324",
     "status": "completed"
    },
    "tags": []
   },
   "outputs": [],
   "source": [
    "import pandas as pd\n",
    "import numpy as np\n",
    "import matplotlib.pyplot as plt\n",
    "import seaborn as sns\n",
    "\n",
    "plt.style.use('fast')\n",
    "\n",
    "import nltk"
   ]
  },
  {
   "cell_type": "code",
   "execution_count": 3,
   "id": "f419d8f7",
   "metadata": {
    "execution": {
     "iopub.execute_input": "2024-04-24T14:47:30.376099Z",
     "iopub.status.busy": "2024-04-24T14:47:30.375683Z",
     "iopub.status.idle": "2024-04-24T14:47:39.449437Z",
     "shell.execute_reply": "2024-04-24T14:47:39.448202Z"
    },
    "papermill": {
     "duration": 9.092664,
     "end_time": "2024-04-24T14:47:39.452127",
     "exception": false,
     "start_time": "2024-04-24T14:47:30.359463",
     "status": "completed"
    },
    "tags": []
   },
   "outputs": [
    {
     "data": {
      "text/html": [
       "<div>\n",
       "<style scoped>\n",
       "    .dataframe tbody tr th:only-of-type {\n",
       "        vertical-align: middle;\n",
       "    }\n",
       "\n",
       "    .dataframe tbody tr th {\n",
       "        vertical-align: top;\n",
       "    }\n",
       "\n",
       "    .dataframe thead th {\n",
       "        text-align: right;\n",
       "    }\n",
       "</style>\n",
       "<table border=\"1\" class=\"dataframe\">\n",
       "  <thead>\n",
       "    <tr style=\"text-align: right;\">\n",
       "      <th></th>\n",
       "      <th>title</th>\n",
       "      <th>author</th>\n",
       "      <th>school</th>\n",
       "      <th>sentence_spacy</th>\n",
       "      <th>sentence_str</th>\n",
       "      <th>original_publication_date</th>\n",
       "      <th>corpus_edition_date</th>\n",
       "      <th>sentence_length</th>\n",
       "      <th>sentence_lowered</th>\n",
       "      <th>tokenized_txt</th>\n",
       "      <th>lemmatized_str</th>\n",
       "    </tr>\n",
       "  </thead>\n",
       "  <tbody>\n",
       "    <tr>\n",
       "      <th>0</th>\n",
       "      <td>Plato - Complete Works</td>\n",
       "      <td>Plato</td>\n",
       "      <td>plato</td>\n",
       "      <td>What's new, Socrates, to make you leave your ...</td>\n",
       "      <td>What's new, Socrates, to make you leave your ...</td>\n",
       "      <td>-350</td>\n",
       "      <td>1997</td>\n",
       "      <td>125</td>\n",
       "      <td>what's new, socrates, to make you leave your ...</td>\n",
       "      <td>['what', 'new', 'socrates', 'to', 'make', 'you...</td>\n",
       "      <td>what be new , Socrates , to make -PRON- lea...</td>\n",
       "    </tr>\n",
       "    <tr>\n",
       "      <th>1</th>\n",
       "      <td>Plato - Complete Works</td>\n",
       "      <td>Plato</td>\n",
       "      <td>plato</td>\n",
       "      <td>Surely you are not prosecuting anyone before t...</td>\n",
       "      <td>Surely you are not prosecuting anyone before t...</td>\n",
       "      <td>-350</td>\n",
       "      <td>1997</td>\n",
       "      <td>69</td>\n",
       "      <td>surely you are not prosecuting anyone before t...</td>\n",
       "      <td>['surely', 'you', 'are', 'not', 'prosecuting',...</td>\n",
       "      <td>surely -PRON- be not prosecute anyone before ...</td>\n",
       "    </tr>\n",
       "    <tr>\n",
       "      <th>2</th>\n",
       "      <td>Plato - Complete Works</td>\n",
       "      <td>Plato</td>\n",
       "      <td>plato</td>\n",
       "      <td>The Athenians do not call this a prosecution b...</td>\n",
       "      <td>The Athenians do not call this a prosecution b...</td>\n",
       "      <td>-350</td>\n",
       "      <td>1997</td>\n",
       "      <td>74</td>\n",
       "      <td>the athenians do not call this a prosecution b...</td>\n",
       "      <td>['the', 'athenians', 'do', 'not', 'call', 'thi...</td>\n",
       "      <td>the Athenians do not call this a prosecution ...</td>\n",
       "    </tr>\n",
       "    <tr>\n",
       "      <th>3</th>\n",
       "      <td>Plato - Complete Works</td>\n",
       "      <td>Plato</td>\n",
       "      <td>plato</td>\n",
       "      <td>What is this you say?</td>\n",
       "      <td>What is this you say?</td>\n",
       "      <td>-350</td>\n",
       "      <td>1997</td>\n",
       "      <td>21</td>\n",
       "      <td>what is this you say?</td>\n",
       "      <td>['what', 'is', 'this', 'you', 'say']</td>\n",
       "      <td>what be this -PRON- say ?</td>\n",
       "    </tr>\n",
       "    <tr>\n",
       "      <th>4</th>\n",
       "      <td>Plato - Complete Works</td>\n",
       "      <td>Plato</td>\n",
       "      <td>plato</td>\n",
       "      <td>Someone must have indicted you, for you are no...</td>\n",
       "      <td>Someone must have indicted you, for you are no...</td>\n",
       "      <td>-350</td>\n",
       "      <td>1997</td>\n",
       "      <td>101</td>\n",
       "      <td>someone must have indicted you, for you are no...</td>\n",
       "      <td>['someone', 'must', 'have', 'indicted', 'you',...</td>\n",
       "      <td>someone must have indict -PRON- , for -PRON- ...</td>\n",
       "    </tr>\n",
       "  </tbody>\n",
       "</table>\n",
       "</div>"
      ],
      "text/plain": [
       "                    title author school  \\\n",
       "0  Plato - Complete Works  Plato  plato   \n",
       "1  Plato - Complete Works  Plato  plato   \n",
       "2  Plato - Complete Works  Plato  plato   \n",
       "3  Plato - Complete Works  Plato  plato   \n",
       "4  Plato - Complete Works  Plato  plato   \n",
       "\n",
       "                                      sentence_spacy  \\\n",
       "0   What's new, Socrates, to make you leave your ...   \n",
       "1  Surely you are not prosecuting anyone before t...   \n",
       "2  The Athenians do not call this a prosecution b...   \n",
       "3                              What is this you say?   \n",
       "4  Someone must have indicted you, for you are no...   \n",
       "\n",
       "                                        sentence_str  \\\n",
       "0   What's new, Socrates, to make you leave your ...   \n",
       "1  Surely you are not prosecuting anyone before t...   \n",
       "2  The Athenians do not call this a prosecution b...   \n",
       "3                              What is this you say?   \n",
       "4  Someone must have indicted you, for you are no...   \n",
       "\n",
       "   original_publication_date  corpus_edition_date  sentence_length  \\\n",
       "0                       -350                 1997              125   \n",
       "1                       -350                 1997               69   \n",
       "2                       -350                 1997               74   \n",
       "3                       -350                 1997               21   \n",
       "4                       -350                 1997              101   \n",
       "\n",
       "                                    sentence_lowered  \\\n",
       "0   what's new, socrates, to make you leave your ...   \n",
       "1  surely you are not prosecuting anyone before t...   \n",
       "2  the athenians do not call this a prosecution b...   \n",
       "3                              what is this you say?   \n",
       "4  someone must have indicted you, for you are no...   \n",
       "\n",
       "                                       tokenized_txt  \\\n",
       "0  ['what', 'new', 'socrates', 'to', 'make', 'you...   \n",
       "1  ['surely', 'you', 'are', 'not', 'prosecuting',...   \n",
       "2  ['the', 'athenians', 'do', 'not', 'call', 'thi...   \n",
       "3               ['what', 'is', 'this', 'you', 'say']   \n",
       "4  ['someone', 'must', 'have', 'indicted', 'you',...   \n",
       "\n",
       "                                      lemmatized_str  \n",
       "0     what be new , Socrates , to make -PRON- lea...  \n",
       "1   surely -PRON- be not prosecute anyone before ...  \n",
       "2   the Athenians do not call this a prosecution ...  \n",
       "3                          what be this -PRON- say ?  \n",
       "4   someone must have indict -PRON- , for -PRON- ...  "
      ]
     },
     "execution_count": 3,
     "metadata": {},
     "output_type": "execute_result"
    }
   ],
   "source": [
    "#read data\n",
    "df= pd.read_csv('/kaggle/input/history-of-philosophy/philosophy_data.csv')\n",
    "df.head()"
   ]
  },
  {
   "cell_type": "code",
   "execution_count": 4,
   "id": "7b6cd8e0",
   "metadata": {
    "execution": {
     "iopub.execute_input": "2024-04-24T14:47:39.482219Z",
     "iopub.status.busy": "2024-04-24T14:47:39.481785Z",
     "iopub.status.idle": "2024-04-24T14:47:39.488777Z",
     "shell.execute_reply": "2024-04-24T14:47:39.487717Z"
    },
    "papermill": {
     "duration": 0.024994,
     "end_time": "2024-04-24T14:47:39.491304",
     "exception": false,
     "start_time": "2024-04-24T14:47:39.466310",
     "status": "completed"
    },
    "tags": []
   },
   "outputs": [
    {
     "data": {
      "text/plain": [
       "(360808, 11)"
      ]
     },
     "execution_count": 4,
     "metadata": {},
     "output_type": "execute_result"
    }
   ],
   "source": [
    "df.shape\n",
    "\n",
    "#this is really big. i'm going to take a sample"
   ]
  },
  {
   "cell_type": "code",
   "execution_count": 5,
   "id": "91e89fee",
   "metadata": {
    "execution": {
     "iopub.execute_input": "2024-04-24T14:47:39.523069Z",
     "iopub.status.busy": "2024-04-24T14:47:39.522643Z",
     "iopub.status.idle": "2024-04-24T14:47:39.561527Z",
     "shell.execute_reply": "2024-04-24T14:47:39.560426Z"
    },
    "papermill": {
     "duration": 0.057586,
     "end_time": "2024-04-24T14:47:39.564485",
     "exception": false,
     "start_time": "2024-04-24T14:47:39.506899",
     "status": "completed"
    },
    "tags": []
   },
   "outputs": [
    {
     "data": {
      "text/html": [
       "<div>\n",
       "<style scoped>\n",
       "    .dataframe tbody tr th:only-of-type {\n",
       "        vertical-align: middle;\n",
       "    }\n",
       "\n",
       "    .dataframe tbody tr th {\n",
       "        vertical-align: top;\n",
       "    }\n",
       "\n",
       "    .dataframe thead th {\n",
       "        text-align: right;\n",
       "    }\n",
       "</style>\n",
       "<table border=\"1\" class=\"dataframe\">\n",
       "  <thead>\n",
       "    <tr style=\"text-align: right;\">\n",
       "      <th></th>\n",
       "      <th>index</th>\n",
       "      <th>title</th>\n",
       "      <th>author</th>\n",
       "      <th>school</th>\n",
       "      <th>sentence_spacy</th>\n",
       "      <th>sentence_str</th>\n",
       "      <th>original_publication_date</th>\n",
       "      <th>corpus_edition_date</th>\n",
       "      <th>sentence_length</th>\n",
       "      <th>sentence_lowered</th>\n",
       "      <th>tokenized_txt</th>\n",
       "      <th>lemmatized_str</th>\n",
       "    </tr>\n",
       "  </thead>\n",
       "  <tbody>\n",
       "    <tr>\n",
       "      <th>0</th>\n",
       "      <td>296764</td>\n",
       "      <td>Capital</td>\n",
       "      <td>Marx</td>\n",
       "      <td>communism</td>\n",
       "      <td>Hence a lessened demand for those commodities ...</td>\n",
       "      <td>Hence a lessened demand for those commodities ...</td>\n",
       "      <td>1883</td>\n",
       "      <td>1887</td>\n",
       "      <td>56</td>\n",
       "      <td>hence a lessened demand for those commodities ...</td>\n",
       "      <td>['hence', 'lessened', 'demand', 'for', 'those'...</td>\n",
       "      <td>hence a lessen demand for those commodity voi...</td>\n",
       "    </tr>\n",
       "    <tr>\n",
       "      <th>1</th>\n",
       "      <td>24360</td>\n",
       "      <td>Plato - Complete Works</td>\n",
       "      <td>Plato</td>\n",
       "      <td>plato</td>\n",
       "      <td>We thought that we'd find justice most easily ...</td>\n",
       "      <td>We thought that we'd find justice most easily ...</td>\n",
       "      <td>-350</td>\n",
       "      <td>1997</td>\n",
       "      <td>232</td>\n",
       "      <td>we thought that we'd find justice most easily ...</td>\n",
       "      <td>['we', 'thought', 'that', 'we', 'find', 'justi...</td>\n",
       "      <td>-PRON- think that -PRON- would find justice m...</td>\n",
       "    </tr>\n",
       "    <tr>\n",
       "      <th>2</th>\n",
       "      <td>194757</td>\n",
       "      <td>History Of Madness</td>\n",
       "      <td>Foucault</td>\n",
       "      <td>continental</td>\n",
       "      <td>The faces of the enemy disappeared, and he no ...</td>\n",
       "      <td>The faces of the enemy disappeared, and he no ...</td>\n",
       "      <td>1961</td>\n",
       "      <td>2006</td>\n",
       "      <td>245</td>\n",
       "      <td>the faces of the enemy disappeared, and he no ...</td>\n",
       "      <td>['the', 'faces', 'of', 'the', 'enemy', 'disapp...</td>\n",
       "      <td>the face of the enemy disappear , and -PRON- ...</td>\n",
       "    </tr>\n",
       "    <tr>\n",
       "      <th>3</th>\n",
       "      <td>172916</td>\n",
       "      <td>Naming And Necessity</td>\n",
       "      <td>Kripke</td>\n",
       "      <td>analytic</td>\n",
       "      <td>Can we really consider it as conceivable that ...</td>\n",
       "      <td>Can we really consider it as conceivable that ...</td>\n",
       "      <td>1972</td>\n",
       "      <td>1990</td>\n",
       "      <td>79</td>\n",
       "      <td>can we really consider it as conceivable that ...</td>\n",
       "      <td>['can', 'we', 'really', 'consider', 'it', 'as'...</td>\n",
       "      <td>Can -PRON- really consider -PRON- as conceiva...</td>\n",
       "    </tr>\n",
       "    <tr>\n",
       "      <th>4</th>\n",
       "      <td>109099</td>\n",
       "      <td>Ethics</td>\n",
       "      <td>Spinoza</td>\n",
       "      <td>rationalism</td>\n",
       "      <td>whereof I will speak presently.</td>\n",
       "      <td>whereof I will speak presently.</td>\n",
       "      <td>1677</td>\n",
       "      <td>2003</td>\n",
       "      <td>31</td>\n",
       "      <td>whereof i will speak presently.</td>\n",
       "      <td>['whereof', 'will', 'speak', 'presently']</td>\n",
       "      <td>whereof -PRON- will speak presently .</td>\n",
       "    </tr>\n",
       "  </tbody>\n",
       "</table>\n",
       "</div>"
      ],
      "text/plain": [
       "    index                   title    author       school  \\\n",
       "0  296764                 Capital      Marx    communism   \n",
       "1   24360  Plato - Complete Works     Plato        plato   \n",
       "2  194757      History Of Madness  Foucault  continental   \n",
       "3  172916    Naming And Necessity    Kripke     analytic   \n",
       "4  109099                  Ethics   Spinoza  rationalism   \n",
       "\n",
       "                                      sentence_spacy  \\\n",
       "0  Hence a lessened demand for those commodities ...   \n",
       "1  We thought that we'd find justice most easily ...   \n",
       "2  The faces of the enemy disappeared, and he no ...   \n",
       "3  Can we really consider it as conceivable that ...   \n",
       "4                    whereof I will speak presently.   \n",
       "\n",
       "                                        sentence_str  \\\n",
       "0  Hence a lessened demand for those commodities ...   \n",
       "1  We thought that we'd find justice most easily ...   \n",
       "2  The faces of the enemy disappeared, and he no ...   \n",
       "3  Can we really consider it as conceivable that ...   \n",
       "4                    whereof I will speak presently.   \n",
       "\n",
       "   original_publication_date  corpus_edition_date  sentence_length  \\\n",
       "0                       1883                 1887               56   \n",
       "1                       -350                 1997              232   \n",
       "2                       1961                 2006              245   \n",
       "3                       1972                 1990               79   \n",
       "4                       1677                 2003               31   \n",
       "\n",
       "                                    sentence_lowered  \\\n",
       "0  hence a lessened demand for those commodities ...   \n",
       "1  we thought that we'd find justice most easily ...   \n",
       "2  the faces of the enemy disappeared, and he no ...   \n",
       "3  can we really consider it as conceivable that ...   \n",
       "4                    whereof i will speak presently.   \n",
       "\n",
       "                                       tokenized_txt  \\\n",
       "0  ['hence', 'lessened', 'demand', 'for', 'those'...   \n",
       "1  ['we', 'thought', 'that', 'we', 'find', 'justi...   \n",
       "2  ['the', 'faces', 'of', 'the', 'enemy', 'disapp...   \n",
       "3  ['can', 'we', 'really', 'consider', 'it', 'as'...   \n",
       "4          ['whereof', 'will', 'speak', 'presently']   \n",
       "\n",
       "                                      lemmatized_str  \n",
       "0   hence a lessen demand for those commodity voi...  \n",
       "1   -PRON- think that -PRON- would find justice m...  \n",
       "2   the face of the enemy disappear , and -PRON- ...  \n",
       "3   Can -PRON- really consider -PRON- as conceiva...  \n",
       "4              whereof -PRON- will speak presently .  "
      ]
     },
     "execution_count": 5,
     "metadata": {},
     "output_type": "execute_result"
    }
   ],
   "source": [
    "sampledf = df.sample(n=500).reset_index()\n",
    "sampledf.head()"
   ]
  },
  {
   "cell_type": "markdown",
   "id": "29213e62",
   "metadata": {
    "papermill": {
     "duration": 0.014279,
     "end_time": "2024-04-24T14:47:39.593816",
     "exception": false,
     "start_time": "2024-04-24T14:47:39.579537",
     "status": "completed"
    },
    "tags": []
   },
   "source": [
    "# Exploring the Data"
   ]
  },
  {
   "cell_type": "code",
   "execution_count": 6,
   "id": "fcaa68f2",
   "metadata": {
    "execution": {
     "iopub.execute_input": "2024-04-24T14:47:39.626450Z",
     "iopub.status.busy": "2024-04-24T14:47:39.625718Z",
     "iopub.status.idle": "2024-04-24T14:47:40.389020Z",
     "shell.execute_reply": "2024-04-24T14:47:40.387829Z"
    },
    "papermill": {
     "duration": 0.782218,
     "end_time": "2024-04-24T14:47:40.391932",
     "exception": false,
     "start_time": "2024-04-24T14:47:39.609714",
     "status": "completed"
    },
    "tags": []
   },
   "outputs": [
    {
     "data": {
      "text/plain": [
       "Text(0, 0.5, 'Works Published')"
      ]
     },
     "execution_count": 6,
     "metadata": {},
     "output_type": "execute_result"
    },
    {
     "data": {
      "image/png": "[encoded data removed]",
      "text/plain": [
       "<Figure size 1000x500 with 1 Axes>"
      ]
     },
     "metadata": {},
     "output_type": "display_data"
    }
   ],
   "source": [
    "ax = sampledf['original_publication_date'].value_counts().sort_index().plot(kind='bar', title='Publications by Year', figsize=(10,5))\n",
    "ax.set_xlabel('Publication Year')\n",
    "ax.set_ylabel('Works Published')"
   ]
  },
  {
   "cell_type": "markdown",
   "id": "ddddb248",
   "metadata": {
    "papermill": {
     "duration": 0.01529,
     "end_time": "2024-04-24T14:47:40.422670",
     "exception": false,
     "start_time": "2024-04-24T14:47:40.407380",
     "status": "completed"
    },
    "tags": []
   },
   "source": [
    "### We can see that the majority of quotes took place in the before christ times, which makes sense because so many famous philosophers are old af! A consideration comes to mind from this- to accurately evaluate the sentiment of philosophical texts published in a given time period, we need to account for this outlier. Perhaps it makes most sense to assign a score to each work, then take aggregates to score each philosopher, and each year"
   ]
  },
  {
   "cell_type": "code",
   "execution_count": 7,
   "id": "de61c402",
   "metadata": {
    "execution": {
     "iopub.execute_input": "2024-04-24T14:47:40.455260Z",
     "iopub.status.busy": "2024-04-24T14:47:40.454831Z",
     "iopub.status.idle": "2024-04-24T14:47:40.461979Z",
     "shell.execute_reply": "2024-04-24T14:47:40.460785Z"
    },
    "papermill": {
     "duration": 0.027173,
     "end_time": "2024-04-24T14:47:40.465176",
     "exception": false,
     "start_time": "2024-04-24T14:47:40.438003",
     "status": "completed"
    },
    "tags": []
   },
   "outputs": [
    {
     "name": "stdout",
     "output_type": "stream",
     "text": [
      "36\n"
     ]
    }
   ],
   "source": [
    "author_counts = sampledf['author'].value_counts()\n",
    "print(len(author_counts))"
   ]
  },
  {
   "cell_type": "code",
   "execution_count": 8,
   "id": "e09af2cf",
   "metadata": {
    "execution": {
     "iopub.execute_input": "2024-04-24T14:47:40.498321Z",
     "iopub.status.busy": "2024-04-24T14:47:40.497767Z",
     "iopub.status.idle": "2024-04-24T14:47:41.133398Z",
     "shell.execute_reply": "2024-04-24T14:47:41.132226Z"
    },
    "papermill": {
     "duration": 0.65585,
     "end_time": "2024-04-24T14:47:41.136537",
     "exception": false,
     "start_time": "2024-04-24T14:47:40.480687",
     "status": "completed"
    },
    "tags": []
   },
   "outputs": [
    {
     "data": {
      "text/plain": [
       "Text(0, 0.5, 'Works Published')"
      ]
     },
     "execution_count": 8,
     "metadata": {},
     "output_type": "execute_result"
    },
    {
     "data": {
      "image/png": "[encoded data removed]",
      "text/plain": [
       "<Figure size 1000x500 with 1 Axes>"
      ]
     },
     "metadata": {},
     "output_type": "display_data"
    }
   ],
   "source": [
    "ax = sampledf['author'].value_counts().sort_values(ascending=False).plot(kind='bar', title='Publications by Author', figsize=(10,5))\n",
    "ax.set_xlabel('Author')\n",
    "ax.set_ylabel('Works Published')"
   ]
  },
  {
   "cell_type": "markdown",
   "id": "7599d5cd",
   "metadata": {
    "papermill": {
     "duration": 0.016111,
     "end_time": "2024-04-24T14:47:41.169333",
     "exception": false,
     "start_time": "2024-04-24T14:47:41.153222",
     "status": "completed"
    },
    "tags": []
   },
   "source": [
    "### Looks like our sample has 36 authors, with Aristotle, and Plato writing a pretty sizable chunk"
   ]
  },
  {
   "cell_type": "code",
   "execution_count": 9,
   "id": "3fc0f228",
   "metadata": {
    "execution": {
     "iopub.execute_input": "2024-04-24T14:47:41.204070Z",
     "iopub.status.busy": "2024-04-24T14:47:41.203655Z",
     "iopub.status.idle": "2024-04-24T14:47:41.678339Z",
     "shell.execute_reply": "2024-04-24T14:47:41.677146Z"
    },
    "papermill": {
     "duration": 0.495277,
     "end_time": "2024-04-24T14:47:41.681017",
     "exception": false,
     "start_time": "2024-04-24T14:47:41.185740",
     "status": "completed"
    },
    "tags": []
   },
   "outputs": [
    {
     "data": {
      "text/plain": [
       "Text(0, 0.5, 'Works Published')"
      ]
     },
     "execution_count": 9,
     "metadata": {},
     "output_type": "execute_result"
    },
    {
     "data": {
      "image/png": "[encoded data removed]",
      "text/plain": [
       "<Figure size 1000x500 with 1 Axes>"
      ]
     },
     "metadata": {},
     "output_type": "display_data"
    }
   ],
   "source": [
    "ax = sampledf['school'].value_counts().sort_values(ascending=False).plot(kind='bar', title='Publications by School', figsize=(10,5))\n",
    "ax.set_xlabel('School')\n",
    "ax.set_ylabel('Works Published')"
   ]
  },
  {
   "cell_type": "markdown",
   "id": "33556925",
   "metadata": {
    "papermill": {
     "duration": 0.017774,
     "end_time": "2024-04-24T14:47:41.716590",
     "exception": false,
     "start_time": "2024-04-24T14:47:41.698816",
     "status": "completed"
    },
    "tags": []
   },
   "source": [
    "### ...and 13 schools of thought. I think this is a good amount of schools to be able to analyze on an individual basis!\n",
    "\n",
    "# Basic NLTK"
   ]
  },
  {
   "cell_type": "code",
   "execution_count": 10,
   "id": "d9f074f5",
   "metadata": {
    "execution": {
     "iopub.execute_input": "2024-04-24T14:47:41.754021Z",
     "iopub.status.busy": "2024-04-24T14:47:41.753586Z",
     "iopub.status.idle": "2024-04-24T14:47:41.759749Z",
     "shell.execute_reply": "2024-04-24T14:47:41.758579Z"
    },
    "papermill": {
     "duration": 0.028756,
     "end_time": "2024-04-24T14:47:41.762724",
     "exception": false,
     "start_time": "2024-04-24T14:47:41.733968",
     "status": "completed"
    },
    "tags": []
   },
   "outputs": [
    {
     "name": "stdout",
     "output_type": "stream",
     "text": [
      "these elucidations were published with the third edition of the search after, and with the rest of that work underwent significant and extensive modification with each successive edition.\n"
     ]
    }
   ],
   "source": [
    "#let's check out a sample sentence\n",
    "example = sampledf['sentence_lowered'][250]\n",
    "print(example)"
   ]
  },
  {
   "cell_type": "code",
   "execution_count": 11,
   "id": "92b331ad",
   "metadata": {
    "execution": {
     "iopub.execute_input": "2024-04-24T14:47:41.799843Z",
     "iopub.status.busy": "2024-04-24T14:47:41.799339Z",
     "iopub.status.idle": "2024-04-24T14:47:41.805636Z",
     "shell.execute_reply": "2024-04-24T14:47:41.804449Z"
    },
    "papermill": {
     "duration": 0.02828,
     "end_time": "2024-04-24T14:47:41.808710",
     "exception": false,
     "start_time": "2024-04-24T14:47:41.780430",
     "status": "completed"
    },
    "tags": []
   },
   "outputs": [
    {
     "name": "stdout",
     "output_type": "stream",
     "text": [
      "['these', 'elucidations', 'were', 'published', 'with', 'the', 'third', 'edition', 'of', 'the', 'search', 'after', 'and', 'with', 'the', 'rest', 'of', 'that', 'work', 'underwent', 'significant', 'and', 'extensive', 'modification', 'with', 'each', 'successive', 'edition']\n"
     ]
    }
   ],
   "source": [
    "tokens = sampledf['tokenized_txt'][250]\n",
    "print(tokens)"
   ]
  },
  {
   "cell_type": "markdown",
   "id": "eb7bd006",
   "metadata": {
    "papermill": {
     "duration": 0.017594,
     "end_time": "2024-04-24T14:47:41.843815",
     "exception": false,
     "start_time": "2024-04-24T14:47:41.826221",
     "status": "completed"
    },
    "tags": []
   },
   "source": [
    "# VADER Approach\n",
    "\n",
    "### VADER (Valence Aware Dictionary and sEntiment Reasoner) is a bag of words approach that removes stop words and scores each word to return a total score. This does not account for relationships between words, which is important in actual speech, but it's a start"
   ]
  },
  {
   "cell_type": "code",
   "execution_count": 12,
   "id": "40277c26",
   "metadata": {
    "execution": {
     "iopub.execute_input": "2024-04-24T14:47:41.881534Z",
     "iopub.status.busy": "2024-04-24T14:47:41.881105Z",
     "iopub.status.idle": "2024-04-24T14:47:41.933458Z",
     "shell.execute_reply": "2024-04-24T14:47:41.932262Z"
    },
    "papermill": {
     "duration": 0.074438,
     "end_time": "2024-04-24T14:47:41.936330",
     "exception": false,
     "start_time": "2024-04-24T14:47:41.861892",
     "status": "completed"
    },
    "tags": []
   },
   "outputs": [
    {
     "name": "stderr",
     "output_type": "stream",
     "text": [
      "/opt/conda/lib/python3.10/site-packages/nltk/twitter/__init__.py:20: UserWarning: The twython library has not been installed. Some functionality from the twitter package will not be available.\n",
      "  warnings.warn(\"The twython library has not been installed. \"\n"
     ]
    }
   ],
   "source": [
    "from nltk.sentiment import SentimentIntensityAnalyzer\n",
    "from tqdm.notebook import tqdm\n",
    "\n",
    "sia = SentimentIntensityAnalyzer()"
   ]
  },
  {
   "cell_type": "code",
   "execution_count": 13,
   "id": "eea9f64a",
   "metadata": {
    "execution": {
     "iopub.execute_input": "2024-04-24T14:47:41.973706Z",
     "iopub.status.busy": "2024-04-24T14:47:41.973266Z",
     "iopub.status.idle": "2024-04-24T14:47:41.981471Z",
     "shell.execute_reply": "2024-04-24T14:47:41.980114Z"
    },
    "papermill": {
     "duration": 0.029814,
     "end_time": "2024-04-24T14:47:41.983965",
     "exception": false,
     "start_time": "2024-04-24T14:47:41.954151",
     "status": "completed"
    },
    "tags": []
   },
   "outputs": [
    {
     "data": {
      "text/plain": [
       "{'neg': 0.0, 'neu': 0.318, 'pos': 0.682, 'compound': 0.6468}"
      ]
     },
     "execution_count": 13,
     "metadata": {},
     "output_type": "execute_result"
    }
   ],
   "source": [
    "#let's test it out on a sample sentence\n",
    "\n",
    "sia.polarity_scores(\"I am so happy!\")"
   ]
  },
  {
   "cell_type": "markdown",
   "id": "d36631d0",
   "metadata": {
    "papermill": {
     "duration": 0.018062,
     "end_time": "2024-04-24T14:47:42.019939",
     "exception": false,
     "start_time": "2024-04-24T14:47:42.001877",
     "status": "completed"
    },
    "tags": []
   },
   "source": [
    "### We get a score of negative = 0, neutral = .32, and positive = .68. This is what we would expect. The compound value can range from -1 to 1, aggregating the scores overall."
   ]
  },
  {
   "cell_type": "code",
   "execution_count": 14,
   "id": "8a4f78fe",
   "metadata": {
    "execution": {
     "iopub.execute_input": "2024-04-24T14:47:42.058156Z",
     "iopub.status.busy": "2024-04-24T14:47:42.057065Z",
     "iopub.status.idle": "2024-04-24T14:47:42.064907Z",
     "shell.execute_reply": "2024-04-24T14:47:42.063812Z"
    },
    "papermill": {
     "duration": 0.029166,
     "end_time": "2024-04-24T14:47:42.067223",
     "exception": false,
     "start_time": "2024-04-24T14:47:42.038057",
     "status": "completed"
    },
    "tags": []
   },
   "outputs": [
    {
     "data": {
      "text/plain": [
       "{'neg': 0.496, 'neu': 0.4, 'pos': 0.104, 'compound': -0.7096}"
      ]
     },
     "execution_count": 14,
     "metadata": {},
     "output_type": "execute_result"
    }
   ],
   "source": [
    "sia.polarity_scores(\"The weather is terrible and I want to cry.\")"
   ]
  },
  {
   "cell_type": "markdown",
   "id": "6b04b777",
   "metadata": {
    "papermill": {
     "duration": 0.018051,
     "end_time": "2024-04-24T14:47:42.103113",
     "exception": false,
     "start_time": "2024-04-24T14:47:42.085062",
     "status": "completed"
    },
    "tags": []
   },
   "source": [
    "The SIA has categorized this as negative, which is expected"
   ]
  },
  {
   "cell_type": "code",
   "execution_count": 15,
   "id": "59f310c3",
   "metadata": {
    "execution": {
     "iopub.execute_input": "2024-04-24T14:47:42.141233Z",
     "iopub.status.busy": "2024-04-24T14:47:42.140417Z",
     "iopub.status.idle": "2024-04-24T14:47:42.149575Z",
     "shell.execute_reply": "2024-04-24T14:47:42.148269Z"
    },
    "papermill": {
     "duration": 0.030931,
     "end_time": "2024-04-24T14:47:42.152075",
     "exception": false,
     "start_time": "2024-04-24T14:47:42.121144",
     "status": "completed"
    },
    "tags": []
   },
   "outputs": [
    {
     "name": "stdout",
     "output_type": "stream",
     "text": [
      "these elucidations were published with the third edition of the search after, and with the rest of that work underwent significant and extensive modification with each successive edition.\n"
     ]
    },
    {
     "data": {
      "text/plain": [
       "{'neg': 0.0, 'neu': 0.87, 'pos': 0.13, 'compound': 0.4404}"
      ]
     },
     "execution_count": 15,
     "metadata": {},
     "output_type": "execute_result"
    }
   ],
   "source": [
    "#let's try it on our example\n",
    "\n",
    "print(example)\n",
    "sia.polarity_scores(example)"
   ]
  },
  {
   "cell_type": "code",
   "execution_count": 16,
   "id": "13bcb2f1",
   "metadata": {
    "execution": {
     "iopub.execute_input": "2024-04-24T14:47:42.256048Z",
     "iopub.status.busy": "2024-04-24T14:47:42.255582Z",
     "iopub.status.idle": "2024-04-24T14:47:42.569332Z",
     "shell.execute_reply": "2024-04-24T14:47:42.568109Z"
    },
    "papermill": {
     "duration": 0.338233,
     "end_time": "2024-04-24T14:47:42.573723",
     "exception": false,
     "start_time": "2024-04-24T14:47:42.235490",
     "status": "completed"
    },
    "tags": []
   },
   "outputs": [
    {
     "data": {
      "application/vnd.jupyter.widget-view+json": {
       "model_id": "18df471f6c3646beaa8e52e8754ba4e9",
       "version_major": 2,
       "version_minor": 0
      },
      "text/plain": [
       "  0%|          | 0/500 [00:00<?, ?it/s]"
      ]
     },
     "metadata": {},
     "output_type": "display_data"
    }
   ],
   "source": [
    "# let's run it on the whole dataset and store the results in a dictionary\n",
    "\n",
    "res = {}\n",
    "for i, row in tqdm(sampledf.iterrows(), total = len(sampledf)):\n",
    "    text = row['sentence_lowered']\n",
    "    myid = row.name\n",
    "    res[myid] = sia.polarity_scores(text)"
   ]
  },
  {
   "cell_type": "code",
   "execution_count": 17,
   "id": "b133fd21",
   "metadata": {
    "execution": {
     "iopub.execute_input": "2024-04-24T14:47:42.613173Z",
     "iopub.status.busy": "2024-04-24T14:47:42.612753Z",
     "iopub.status.idle": "2024-04-24T14:47:42.657702Z",
     "shell.execute_reply": "2024-04-24T14:47:42.656504Z"
    },
    "papermill": {
     "duration": 0.06771,
     "end_time": "2024-04-24T14:47:42.660162",
     "exception": false,
     "start_time": "2024-04-24T14:47:42.592452",
     "status": "completed"
    },
    "tags": []
   },
   "outputs": [
    {
     "data": {
      "text/html": [
       "<div>\n",
       "<style scoped>\n",
       "    .dataframe tbody tr th:only-of-type {\n",
       "        vertical-align: middle;\n",
       "    }\n",
       "\n",
       "    .dataframe tbody tr th {\n",
       "        vertical-align: top;\n",
       "    }\n",
       "\n",
       "    .dataframe thead th {\n",
       "        text-align: right;\n",
       "    }\n",
       "</style>\n",
       "<table border=\"1\" class=\"dataframe\">\n",
       "  <thead>\n",
       "    <tr style=\"text-align: right;\">\n",
       "      <th></th>\n",
       "      <th>neg</th>\n",
       "      <th>neu</th>\n",
       "      <th>pos</th>\n",
       "      <th>compound</th>\n",
       "      <th>index</th>\n",
       "      <th>title</th>\n",
       "      <th>author</th>\n",
       "      <th>school</th>\n",
       "      <th>sentence_spacy</th>\n",
       "      <th>sentence_str</th>\n",
       "      <th>original_publication_date</th>\n",
       "      <th>corpus_edition_date</th>\n",
       "      <th>sentence_length</th>\n",
       "      <th>sentence_lowered</th>\n",
       "      <th>tokenized_txt</th>\n",
       "      <th>lemmatized_str</th>\n",
       "    </tr>\n",
       "  </thead>\n",
       "  <tbody>\n",
       "    <tr>\n",
       "      <th>0</th>\n",
       "      <td>0.333</td>\n",
       "      <td>0.667</td>\n",
       "      <td>0.000</td>\n",
       "      <td>-0.2500</td>\n",
       "      <td>296764</td>\n",
       "      <td>Capital</td>\n",
       "      <td>Marx</td>\n",
       "      <td>communism</td>\n",
       "      <td>Hence a lessened demand for those commodities ...</td>\n",
       "      <td>Hence a lessened demand for those commodities ...</td>\n",
       "      <td>1883</td>\n",
       "      <td>1887</td>\n",
       "      <td>56</td>\n",
       "      <td>hence a lessened demand for those commodities ...</td>\n",
       "      <td>['hence', 'lessened', 'demand', 'for', 'those'...</td>\n",
       "      <td>hence a lessen demand for those commodity voi...</td>\n",
       "    </tr>\n",
       "    <tr>\n",
       "      <th>1</th>\n",
       "      <td>0.150</td>\n",
       "      <td>0.732</td>\n",
       "      <td>0.117</td>\n",
       "      <td>-0.4033</td>\n",
       "      <td>24360</td>\n",
       "      <td>Plato - Complete Works</td>\n",
       "      <td>Plato</td>\n",
       "      <td>plato</td>\n",
       "      <td>We thought that we'd find justice most easily ...</td>\n",
       "      <td>We thought that we'd find justice most easily ...</td>\n",
       "      <td>-350</td>\n",
       "      <td>1997</td>\n",
       "      <td>232</td>\n",
       "      <td>we thought that we'd find justice most easily ...</td>\n",
       "      <td>['we', 'thought', 'that', 'we', 'find', 'justi...</td>\n",
       "      <td>-PRON- think that -PRON- would find justice m...</td>\n",
       "    </tr>\n",
       "    <tr>\n",
       "      <th>2</th>\n",
       "      <td>0.182</td>\n",
       "      <td>0.763</td>\n",
       "      <td>0.055</td>\n",
       "      <td>-0.4310</td>\n",
       "      <td>194757</td>\n",
       "      <td>History Of Madness</td>\n",
       "      <td>Foucault</td>\n",
       "      <td>continental</td>\n",
       "      <td>The faces of the enemy disappeared, and he no ...</td>\n",
       "      <td>The faces of the enemy disappeared, and he no ...</td>\n",
       "      <td>1961</td>\n",
       "      <td>2006</td>\n",
       "      <td>245</td>\n",
       "      <td>the faces of the enemy disappeared, and he no ...</td>\n",
       "      <td>['the', 'faces', 'of', 'the', 'enemy', 'disapp...</td>\n",
       "      <td>the face of the enemy disappear , and -PRON- ...</td>\n",
       "    </tr>\n",
       "    <tr>\n",
       "      <th>3</th>\n",
       "      <td>0.000</td>\n",
       "      <td>1.000</td>\n",
       "      <td>0.000</td>\n",
       "      <td>0.0000</td>\n",
       "      <td>172916</td>\n",
       "      <td>Naming And Necessity</td>\n",
       "      <td>Kripke</td>\n",
       "      <td>analytic</td>\n",
       "      <td>Can we really consider it as conceivable that ...</td>\n",
       "      <td>Can we really consider it as conceivable that ...</td>\n",
       "      <td>1972</td>\n",
       "      <td>1990</td>\n",
       "      <td>79</td>\n",
       "      <td>can we really consider it as conceivable that ...</td>\n",
       "      <td>['can', 'we', 'really', 'consider', 'it', 'as'...</td>\n",
       "      <td>Can -PRON- really consider -PRON- as conceiva...</td>\n",
       "    </tr>\n",
       "    <tr>\n",
       "      <th>4</th>\n",
       "      <td>0.000</td>\n",
       "      <td>1.000</td>\n",
       "      <td>0.000</td>\n",
       "      <td>0.0000</td>\n",
       "      <td>109099</td>\n",
       "      <td>Ethics</td>\n",
       "      <td>Spinoza</td>\n",
       "      <td>rationalism</td>\n",
       "      <td>whereof I will speak presently.</td>\n",
       "      <td>whereof I will speak presently.</td>\n",
       "      <td>1677</td>\n",
       "      <td>2003</td>\n",
       "      <td>31</td>\n",
       "      <td>whereof i will speak presently.</td>\n",
       "      <td>['whereof', 'will', 'speak', 'presently']</td>\n",
       "      <td>whereof -PRON- will speak presently .</td>\n",
       "    </tr>\n",
       "  </tbody>\n",
       "</table>\n",
       "</div>"
      ],
      "text/plain": [
       "     neg    neu    pos  compound   index                   title    author  \\\n",
       "0  0.333  0.667  0.000   -0.2500  296764                 Capital      Marx   \n",
       "1  0.150  0.732  0.117   -0.4033   24360  Plato - Complete Works     Plato   \n",
       "2  0.182  0.763  0.055   -0.4310  194757      History Of Madness  Foucault   \n",
       "3  0.000  1.000  0.000    0.0000  172916    Naming And Necessity    Kripke   \n",
       "4  0.000  1.000  0.000    0.0000  109099                  Ethics   Spinoza   \n",
       "\n",
       "        school                                     sentence_spacy  \\\n",
       "0    communism  Hence a lessened demand for those commodities ...   \n",
       "1        plato  We thought that we'd find justice most easily ...   \n",
       "2  continental  The faces of the enemy disappeared, and he no ...   \n",
       "3     analytic  Can we really consider it as conceivable that ...   \n",
       "4  rationalism                    whereof I will speak presently.   \n",
       "\n",
       "                                        sentence_str  \\\n",
       "0  Hence a lessened demand for those commodities ...   \n",
       "1  We thought that we'd find justice most easily ...   \n",
       "2  The faces of the enemy disappeared, and he no ...   \n",
       "3  Can we really consider it as conceivable that ...   \n",
       "4                    whereof I will speak presently.   \n",
       "\n",
       "   original_publication_date  corpus_edition_date  sentence_length  \\\n",
       "0                       1883                 1887               56   \n",
       "1                       -350                 1997              232   \n",
       "2                       1961                 2006              245   \n",
       "3                       1972                 1990               79   \n",
       "4                       1677                 2003               31   \n",
       "\n",
       "                                    sentence_lowered  \\\n",
       "0  hence a lessened demand for those commodities ...   \n",
       "1  we thought that we'd find justice most easily ...   \n",
       "2  the faces of the enemy disappeared, and he no ...   \n",
       "3  can we really consider it as conceivable that ...   \n",
       "4                    whereof i will speak presently.   \n",
       "\n",
       "                                       tokenized_txt  \\\n",
       "0  ['hence', 'lessened', 'demand', 'for', 'those'...   \n",
       "1  ['we', 'thought', 'that', 'we', 'find', 'justi...   \n",
       "2  ['the', 'faces', 'of', 'the', 'enemy', 'disapp...   \n",
       "3  ['can', 'we', 'really', 'consider', 'it', 'as'...   \n",
       "4          ['whereof', 'will', 'speak', 'presently']   \n",
       "\n",
       "                                      lemmatized_str  \n",
       "0   hence a lessen demand for those commodity voi...  \n",
       "1   -PRON- think that -PRON- would find justice m...  \n",
       "2   the face of the enemy disappear , and -PRON- ...  \n",
       "3   Can -PRON- really consider -PRON- as conceiva...  \n",
       "4              whereof -PRON- will speak presently .  "
      ]
     },
     "execution_count": 17,
     "metadata": {},
     "output_type": "execute_result"
    }
   ],
   "source": [
    "# store result in a dataframe\n",
    "\n",
    "vaders = pd.DataFrame(res).T\n",
    "vaders = vaders.merge(sampledf, left_index=True, right_index=True)\n",
    "vaders.head()"
   ]
  },
  {
   "cell_type": "markdown",
   "id": "12205968",
   "metadata": {
    "papermill": {
     "duration": 0.019467,
     "end_time": "2024-04-24T14:47:42.699119",
     "exception": false,
     "start_time": "2024-04-24T14:47:42.679652",
     "status": "completed"
    },
    "tags": []
   },
   "source": [
    "# Visualizing VADER Results"
   ]
  },
  {
   "cell_type": "code",
   "execution_count": 18,
   "id": "8786be7c",
   "metadata": {
    "execution": {
     "iopub.execute_input": "2024-04-24T14:47:42.739213Z",
     "iopub.status.busy": "2024-04-24T14:47:42.738779Z",
     "iopub.status.idle": "2024-04-24T14:47:43.632710Z",
     "shell.execute_reply": "2024-04-24T14:47:43.631433Z"
    },
    "papermill": {
     "duration": 0.917391,
     "end_time": "2024-04-24T14:47:43.635641",
     "exception": false,
     "start_time": "2024-04-24T14:47:42.718250",
     "status": "completed"
    },
    "tags": []
   },
   "outputs": [
    {
     "data": {
      "image/png": "[encoded data removed]",
      "text/plain": [
       "<Figure size 640x480 with 1 Axes>"
      ]
     },
     "metadata": {},
     "output_type": "display_data"
    }
   ],
   "source": [
    "ax = sns.barplot(data=vaders, y='school', x='compound')\n",
    "ax.set_title('Compound Score by School')\n",
    "plt.show()"
   ]
  },
  {
   "cell_type": "code",
   "execution_count": 19,
   "id": "8e75f6d2",
   "metadata": {
    "execution": {
     "iopub.execute_input": "2024-04-24T14:47:43.677012Z",
     "iopub.status.busy": "2024-04-24T14:47:43.676605Z",
     "iopub.status.idle": "2024-04-24T14:47:45.947713Z",
     "shell.execute_reply": "2024-04-24T14:47:45.946090Z"
    },
    "papermill": {
     "duration": 2.295723,
     "end_time": "2024-04-24T14:47:45.951037",
     "exception": false,
     "start_time": "2024-04-24T14:47:43.655314",
     "status": "completed"
    },
    "tags": []
   },
   "outputs": [
    {
     "data": {
      "image/png": "[encoded data removed]",
      "text/plain": [
       "<Figure size 2000x500 with 3 Axes>"
      ]
     },
     "metadata": {},
     "output_type": "display_data"
    }
   ],
   "source": [
    "fig, axs = plt.subplots(1, 3, figsize=(20,5))\n",
    "sns.barplot(data=vaders, y='school', x='pos', ax=axs[0])\n",
    "sns.barplot(data=vaders, y='school', x='neu', ax=axs[1])\n",
    "sns.barplot(data=vaders, y='school', x='neg', ax=axs[2])\n",
    "axs[0].set_title('Positive')\n",
    "axs[1].set_title('Neutral')\n",
    "axs[2].set_title('Negative')\n",
    "plt.tight_layout()\n",
    "plt.show()"
   ]
  },
  {
   "cell_type": "markdown",
   "id": "b99fb3d1",
   "metadata": {
    "papermill": {
     "duration": 0.021817,
     "end_time": "2024-04-24T14:47:45.993459",
     "exception": false,
     "start_time": "2024-04-24T14:47:45.971642",
     "status": "completed"
    },
    "tags": []
   },
   "source": [
    "# Next up we will try Roberta Model!!!!!\n",
    "\n",
    "### The Roberta pretrained model will pick up on relationships between words, and the context related to other words (VADER did not do this)"
   ]
  },
  {
   "cell_type": "code",
   "execution_count": 20,
   "id": "07630c47",
   "metadata": {
    "execution": {
     "iopub.execute_input": "2024-04-24T14:47:46.036703Z",
     "iopub.status.busy": "2024-04-24T14:47:46.036237Z",
     "iopub.status.idle": "2024-04-24T14:47:53.549402Z",
     "shell.execute_reply": "2024-04-24T14:47:53.548379Z"
    },
    "papermill": {
     "duration": 7.538019,
     "end_time": "2024-04-24T14:47:53.552262",
     "exception": false,
     "start_time": "2024-04-24T14:47:46.014243",
     "status": "completed"
    },
    "tags": []
   },
   "outputs": [],
   "source": [
    "from transformers import AutoTokenizer\n",
    "from transformers import AutoModelForSequenceClassification\n",
    "from transformers import AutoConfig\n",
    "from scipy.special import softmax"
   ]
  },
  {
   "cell_type": "code",
   "execution_count": 21,
   "id": "383a3973",
   "metadata": {
    "execution": {
     "iopub.execute_input": "2024-04-24T14:47:53.597636Z",
     "iopub.status.busy": "2024-04-24T14:47:53.596937Z",
     "iopub.status.idle": "2024-04-24T14:48:58.951902Z",
     "shell.execute_reply": "2024-04-24T14:48:58.950681Z"
    },
    "papermill": {
     "duration": 65.379895,
     "end_time": "2024-04-24T14:48:58.954884",
     "exception": false,
     "start_time": "2024-04-24T14:47:53.574989",
     "status": "completed"
    },
    "tags": []
   },
   "outputs": [
    {
     "data": {
      "application/vnd.jupyter.widget-view+json": {
       "model_id": "0cf7e38a42fe4ff4a78606761ef75673",
       "version_major": 2,
       "version_minor": 0
      },
      "text/plain": [
       "config.json:   0%|          | 0.00/929 [00:00<?, ?B/s]"
      ]
     },
     "metadata": {},
     "output_type": "display_data"
    },
    {
     "data": {
      "application/vnd.jupyter.widget-view+json": {
       "model_id": "1aa9e62b3a8c44108979fa0fbed944fc",
       "version_major": 2,
       "version_minor": 0
      },
      "text/plain": [
       "vocab.json:   0%|          | 0.00/899k [00:00<?, ?B/s]"
      ]
     },
     "metadata": {},
     "output_type": "display_data"
    },
    {
     "data": {
      "application/vnd.jupyter.widget-view+json": {
       "model_id": "8f5d769912d2451b949e8608a1850296",
       "version_major": 2,
       "version_minor": 0
      },
      "text/plain": [
       "merges.txt:   0%|          | 0.00/456k [00:00<?, ?B/s]"
      ]
     },
     "metadata": {},
     "output_type": "display_data"
    },
    {
     "data": {
      "application/vnd.jupyter.widget-view+json": {
       "model_id": "6879c6451e944a8c9bb56c27eabb179b",
       "version_major": 2,
       "version_minor": 0
      },
      "text/plain": [
       "special_tokens_map.json:   0%|          | 0.00/239 [00:00<?, ?B/s]"
      ]
     },
     "metadata": {},
     "output_type": "display_data"
    },
    {
     "data": {
      "application/vnd.jupyter.widget-view+json": {
       "model_id": "2eea05f9601c4c2ca4104151b2912001",
       "version_major": 2,
       "version_minor": 0
      },
      "text/plain": [
       "pytorch_model.bin:   0%|          | 0.00/501M [00:00<?, ?B/s]"
      ]
     },
     "metadata": {},
     "output_type": "display_data"
    },
    {
     "name": "stderr",
     "output_type": "stream",
     "text": [
      "/opt/conda/lib/python3.10/site-packages/torch/_utils.py:831: UserWarning: TypedStorage is deprecated. It will be removed in the future and UntypedStorage will be the only storage class. This should only matter to you if you are using storages directly.  To access UntypedStorage directly, use tensor.untyped_storage() instead of tensor.storage()\n",
      "  return self.fget.__get__(instance, owner)()\n",
      "Some weights of the model checkpoint at cardiffnlp/twitter-roberta-base-sentiment-latest were not used when initializing RobertaForSequenceClassification: ['roberta.pooler.dense.bias', 'roberta.pooler.dense.weight']\n",
      "- This IS expected if you are initializing RobertaForSequenceClassification from the checkpoint of a model trained on another task or with another architecture (e.g. initializing a BertForSequenceClassification model from a BertForPreTraining model).\n",
      "- This IS NOT expected if you are initializing RobertaForSequenceClassification from the checkpoint of a model that you expect to be exactly identical (initializing a BertForSequenceClassification model from a BertForSequenceClassification model).\n"
     ]
    }
   ],
   "source": [
    "MODEL = f\"cardiffnlp/twitter-roberta-base-sentiment-latest\"\n",
    "tokenizer = AutoTokenizer.from_pretrained(MODEL)\n",
    "config = AutoConfig.from_pretrained(MODEL)\n",
    "\n",
    "model = AutoModelForSequenceClassification.from_pretrained(MODEL)"
   ]
  },
  {
   "cell_type": "code",
   "execution_count": 22,
   "id": "98be1727",
   "metadata": {
    "execution": {
     "iopub.execute_input": "2024-04-24T14:48:59.000898Z",
     "iopub.status.busy": "2024-04-24T14:48:59.000231Z",
     "iopub.status.idle": "2024-04-24T14:48:59.009625Z",
     "shell.execute_reply": "2024-04-24T14:48:59.008345Z"
    },
    "papermill": {
     "duration": 0.03528,
     "end_time": "2024-04-24T14:48:59.012400",
     "exception": false,
     "start_time": "2024-04-24T14:48:58.977120",
     "status": "completed"
    },
    "tags": []
   },
   "outputs": [
    {
     "name": "stdout",
     "output_type": "stream",
     "text": [
      "these elucidations were published with the third edition of the search after, and with the rest of that work underwent significant and extensive modification with each successive edition.\n"
     ]
    },
    {
     "data": {
      "text/plain": [
       "{'neg': 0.0, 'neu': 0.87, 'pos': 0.13, 'compound': 0.4404}"
      ]
     },
     "execution_count": 22,
     "metadata": {},
     "output_type": "execute_result"
    }
   ],
   "source": [
    "# remember VADER results on example\n",
    "print(example)\n",
    "sia.polarity_scores(example)"
   ]
  },
  {
   "cell_type": "code",
   "execution_count": 23,
   "id": "2ab1d732",
   "metadata": {
    "execution": {
     "iopub.execute_input": "2024-04-24T14:48:59.059263Z",
     "iopub.status.busy": "2024-04-24T14:48:59.058246Z",
     "iopub.status.idle": "2024-04-24T14:48:59.322745Z",
     "shell.execute_reply": "2024-04-24T14:48:59.320942Z"
    },
    "papermill": {
     "duration": 0.290537,
     "end_time": "2024-04-24T14:48:59.325657",
     "exception": false,
     "start_time": "2024-04-24T14:48:59.035120",
     "status": "completed"
    },
    "tags": []
   },
   "outputs": [
    {
     "name": "stdout",
     "output_type": "stream",
     "text": [
      "[0.017173   0.9143857  0.06844131]\n"
     ]
    }
   ],
   "source": [
    "#running roberta model\n",
    "encoded_text = tokenizer(example, return_tensors='pt')\n",
    "output = model(**encoded_text)\n",
    "scores = output[0][0].detach().numpy()\n",
    "scores = softmax(scores)\n",
    "\n",
    "print(scores)"
   ]
  },
  {
   "cell_type": "markdown",
   "id": "6e175a6e",
   "metadata": {
    "papermill": {
     "duration": 0.027191,
     "end_time": "2024-04-24T14:48:59.377182",
     "exception": false,
     "start_time": "2024-04-24T14:48:59.349991",
     "status": "completed"
    },
    "tags": []
   },
   "source": [
    "### These 3 values are negative, neutral, and positive scores for this text"
   ]
  },
  {
   "cell_type": "code",
   "execution_count": 24,
   "id": "682963b8",
   "metadata": {
    "execution": {
     "iopub.execute_input": "2024-04-24T14:48:59.441844Z",
     "iopub.status.busy": "2024-04-24T14:48:59.441163Z",
     "iopub.status.idle": "2024-04-24T14:48:59.447976Z",
     "shell.execute_reply": "2024-04-24T14:48:59.446770Z"
    },
    "papermill": {
     "duration": 0.045,
     "end_time": "2024-04-24T14:48:59.452583",
     "exception": false,
     "start_time": "2024-04-24T14:48:59.407583",
     "status": "completed"
    },
    "tags": []
   },
   "outputs": [
    {
     "name": "stdout",
     "output_type": "stream",
     "text": [
      "{'roberta_neg': 0.017173, 'roberta_neu': 0.9143857, 'roberts_pos': 0.06844131}\n"
     ]
    }
   ],
   "source": [
    "scores_dict = {\n",
    "    'roberta_neg' : scores[0],\n",
    "    'roberta_neu' : scores[1],\n",
    "    'roberts_pos' : scores[2]\n",
    "}\n",
    "print(scores_dict)"
   ]
  },
  {
   "cell_type": "code",
   "execution_count": 25,
   "id": "d91b9bd9",
   "metadata": {
    "execution": {
     "iopub.execute_input": "2024-04-24T14:48:59.506160Z",
     "iopub.status.busy": "2024-04-24T14:48:59.505731Z",
     "iopub.status.idle": "2024-04-24T14:48:59.512919Z",
     "shell.execute_reply": "2024-04-24T14:48:59.511772Z"
    },
    "papermill": {
     "duration": 0.033722,
     "end_time": "2024-04-24T14:48:59.515477",
     "exception": false,
     "start_time": "2024-04-24T14:48:59.481755",
     "status": "completed"
    },
    "tags": []
   },
   "outputs": [],
   "source": [
    "def polarity_scores_roberta(example):\n",
    "    encoded_text = tokenizer(example, return_tensors='pt')\n",
    "    output = model(**encoded_text)\n",
    "    scores = output[0][0].detach().numpy()\n",
    "    scores = softmax(scores)\n",
    "    scores_dict = {\n",
    "    'roberta_neg' : scores[0],\n",
    "    'roberta_neu' : scores[1],\n",
    "    'roberts_pos' : scores[2]\n",
    "    }\n",
    "    return scores_dict"
   ]
  },
  {
   "cell_type": "code",
   "execution_count": 26,
   "id": "88eec2e4",
   "metadata": {
    "execution": {
     "iopub.execute_input": "2024-04-24T14:48:59.562001Z",
     "iopub.status.busy": "2024-04-24T14:48:59.561576Z",
     "iopub.status.idle": "2024-04-24T14:49:52.056961Z",
     "shell.execute_reply": "2024-04-24T14:49:52.055762Z"
    },
    "papermill": {
     "duration": 52.521839,
     "end_time": "2024-04-24T14:49:52.059847",
     "exception": false,
     "start_time": "2024-04-24T14:48:59.538008",
     "status": "completed"
    },
    "tags": []
   },
   "outputs": [
    {
     "data": {
      "application/vnd.jupyter.widget-view+json": {
       "model_id": "500d8f7426bf47b7a0930ca504f0bde0",
       "version_major": 2,
       "version_minor": 0
      },
      "text/plain": [
       "  0%|          | 0/500 [00:00<?, ?it/s]"
      ]
     },
     "metadata": {},
     "output_type": "display_data"
    }
   ],
   "source": [
    "res = {}\n",
    "for i, row in tqdm(sampledf.iterrows(), total = len(sampledf)):\n",
    "    try:\n",
    "        text = row['sentence_lowered']\n",
    "        myid = row.name\n",
    "        vader_result = sia.polarity_scores(text)\n",
    "        vader_result_rename = {}\n",
    "        for key, value in vader_result.items():\n",
    "            vader_result_rename[f\"vader_{key}\"] = value\n",
    "\n",
    "        roberta_result = polarity_scores_roberta(text)\n",
    "        both_results = {**vader_result_rename, **roberta_result}\n",
    "        res[myid] = both_results\n",
    "    except RuntimeError:\n",
    "        print(f'Broke for id {myid}')"
   ]
  },
  {
   "cell_type": "code",
   "execution_count": 27,
   "id": "4f3604ba",
   "metadata": {
    "execution": {
     "iopub.execute_input": "2024-04-24T14:49:52.109316Z",
     "iopub.status.busy": "2024-04-24T14:49:52.108903Z",
     "iopub.status.idle": "2024-04-24T14:49:52.157751Z",
     "shell.execute_reply": "2024-04-24T14:49:52.156476Z"
    },
    "papermill": {
     "duration": 0.077257,
     "end_time": "2024-04-24T14:49:52.160554",
     "exception": false,
     "start_time": "2024-04-24T14:49:52.083297",
     "status": "completed"
    },
    "tags": []
   },
   "outputs": [
    {
     "data": {
      "text/html": [
       "<div>\n",
       "<style scoped>\n",
       "    .dataframe tbody tr th:only-of-type {\n",
       "        vertical-align: middle;\n",
       "    }\n",
       "\n",
       "    .dataframe tbody tr th {\n",
       "        vertical-align: top;\n",
       "    }\n",
       "\n",
       "    .dataframe thead th {\n",
       "        text-align: right;\n",
       "    }\n",
       "</style>\n",
       "<table border=\"1\" class=\"dataframe\">\n",
       "  <thead>\n",
       "    <tr style=\"text-align: right;\">\n",
       "      <th></th>\n",
       "      <th>vader_neg</th>\n",
       "      <th>vader_neu</th>\n",
       "      <th>vader_pos</th>\n",
       "      <th>vader_compound</th>\n",
       "      <th>roberta_neg</th>\n",
       "      <th>roberta_neu</th>\n",
       "      <th>roberts_pos</th>\n",
       "      <th>index</th>\n",
       "      <th>title</th>\n",
       "      <th>author</th>\n",
       "      <th>school</th>\n",
       "      <th>sentence_spacy</th>\n",
       "      <th>sentence_str</th>\n",
       "      <th>original_publication_date</th>\n",
       "      <th>corpus_edition_date</th>\n",
       "      <th>sentence_length</th>\n",
       "      <th>sentence_lowered</th>\n",
       "      <th>tokenized_txt</th>\n",
       "      <th>lemmatized_str</th>\n",
       "    </tr>\n",
       "  </thead>\n",
       "  <tbody>\n",
       "    <tr>\n",
       "      <th>0</th>\n",
       "      <td>0.333</td>\n",
       "      <td>0.667</td>\n",
       "      <td>0.000</td>\n",
       "      <td>-0.2500</td>\n",
       "      <td>0.250013</td>\n",
       "      <td>0.709626</td>\n",
       "      <td>0.040361</td>\n",
       "      <td>296764</td>\n",
       "      <td>Capital</td>\n",
       "      <td>Marx</td>\n",
       "      <td>communism</td>\n",
       "      <td>Hence a lessened demand for those commodities ...</td>\n",
       "      <td>Hence a lessened demand for those commodities ...</td>\n",
       "      <td>1883</td>\n",
       "      <td>1887</td>\n",
       "      <td>56</td>\n",
       "      <td>hence a lessened demand for those commodities ...</td>\n",
       "      <td>['hence', 'lessened', 'demand', 'for', 'those'...</td>\n",
       "      <td>hence a lessen demand for those commodity voi...</td>\n",
       "    </tr>\n",
       "    <tr>\n",
       "      <th>1</th>\n",
       "      <td>0.150</td>\n",
       "      <td>0.732</td>\n",
       "      <td>0.117</td>\n",
       "      <td>-0.4033</td>\n",
       "      <td>0.416363</td>\n",
       "      <td>0.529823</td>\n",
       "      <td>0.053814</td>\n",
       "      <td>24360</td>\n",
       "      <td>Plato - Complete Works</td>\n",
       "      <td>Plato</td>\n",
       "      <td>plato</td>\n",
       "      <td>We thought that we'd find justice most easily ...</td>\n",
       "      <td>We thought that we'd find justice most easily ...</td>\n",
       "      <td>-350</td>\n",
       "      <td>1997</td>\n",
       "      <td>232</td>\n",
       "      <td>we thought that we'd find justice most easily ...</td>\n",
       "      <td>['we', 'thought', 'that', 'we', 'find', 'justi...</td>\n",
       "      <td>-PRON- think that -PRON- would find justice m...</td>\n",
       "    </tr>\n",
       "    <tr>\n",
       "      <th>2</th>\n",
       "      <td>0.182</td>\n",
       "      <td>0.763</td>\n",
       "      <td>0.055</td>\n",
       "      <td>-0.4310</td>\n",
       "      <td>0.594128</td>\n",
       "      <td>0.385931</td>\n",
       "      <td>0.019941</td>\n",
       "      <td>194757</td>\n",
       "      <td>History Of Madness</td>\n",
       "      <td>Foucault</td>\n",
       "      <td>continental</td>\n",
       "      <td>The faces of the enemy disappeared, and he no ...</td>\n",
       "      <td>The faces of the enemy disappeared, and he no ...</td>\n",
       "      <td>1961</td>\n",
       "      <td>2006</td>\n",
       "      <td>245</td>\n",
       "      <td>the faces of the enemy disappeared, and he no ...</td>\n",
       "      <td>['the', 'faces', 'of', 'the', 'enemy', 'disapp...</td>\n",
       "      <td>the face of the enemy disappear , and -PRON- ...</td>\n",
       "    </tr>\n",
       "    <tr>\n",
       "      <th>3</th>\n",
       "      <td>0.000</td>\n",
       "      <td>1.000</td>\n",
       "      <td>0.000</td>\n",
       "      <td>0.0000</td>\n",
       "      <td>0.857433</td>\n",
       "      <td>0.136131</td>\n",
       "      <td>0.006436</td>\n",
       "      <td>172916</td>\n",
       "      <td>Naming And Necessity</td>\n",
       "      <td>Kripke</td>\n",
       "      <td>analytic</td>\n",
       "      <td>Can we really consider it as conceivable that ...</td>\n",
       "      <td>Can we really consider it as conceivable that ...</td>\n",
       "      <td>1972</td>\n",
       "      <td>1990</td>\n",
       "      <td>79</td>\n",
       "      <td>can we really consider it as conceivable that ...</td>\n",
       "      <td>['can', 'we', 'really', 'consider', 'it', 'as'...</td>\n",
       "      <td>Can -PRON- really consider -PRON- as conceiva...</td>\n",
       "    </tr>\n",
       "    <tr>\n",
       "      <th>4</th>\n",
       "      <td>0.000</td>\n",
       "      <td>1.000</td>\n",
       "      <td>0.000</td>\n",
       "      <td>0.0000</td>\n",
       "      <td>0.021861</td>\n",
       "      <td>0.912097</td>\n",
       "      <td>0.066042</td>\n",
       "      <td>109099</td>\n",
       "      <td>Ethics</td>\n",
       "      <td>Spinoza</td>\n",
       "      <td>rationalism</td>\n",
       "      <td>whereof I will speak presently.</td>\n",
       "      <td>whereof I will speak presently.</td>\n",
       "      <td>1677</td>\n",
       "      <td>2003</td>\n",
       "      <td>31</td>\n",
       "      <td>whereof i will speak presently.</td>\n",
       "      <td>['whereof', 'will', 'speak', 'presently']</td>\n",
       "      <td>whereof -PRON- will speak presently .</td>\n",
       "    </tr>\n",
       "  </tbody>\n",
       "</table>\n",
       "</div>"
      ],
      "text/plain": [
       "   vader_neg  vader_neu  vader_pos  vader_compound  roberta_neg  roberta_neu  \\\n",
       "0      0.333      0.667      0.000         -0.2500     0.250013     0.709626   \n",
       "1      0.150      0.732      0.117         -0.4033     0.416363     0.529823   \n",
       "2      0.182      0.763      0.055         -0.4310     0.594128     0.385931   \n",
       "3      0.000      1.000      0.000          0.0000     0.857433     0.136131   \n",
       "4      0.000      1.000      0.000          0.0000     0.021861     0.912097   \n",
       "\n",
       "   roberts_pos   index                   title    author       school  \\\n",
       "0     0.040361  296764                 Capital      Marx    communism   \n",
       "1     0.053814   24360  Plato - Complete Works     Plato        plato   \n",
       "2     0.019941  194757      History Of Madness  Foucault  continental   \n",
       "3     0.006436  172916    Naming And Necessity    Kripke     analytic   \n",
       "4     0.066042  109099                  Ethics   Spinoza  rationalism   \n",
       "\n",
       "                                      sentence_spacy  \\\n",
       "0  Hence a lessened demand for those commodities ...   \n",
       "1  We thought that we'd find justice most easily ...   \n",
       "2  The faces of the enemy disappeared, and he no ...   \n",
       "3  Can we really consider it as conceivable that ...   \n",
       "4                    whereof I will speak presently.   \n",
       "\n",
       "                                        sentence_str  \\\n",
       "0  Hence a lessened demand for those commodities ...   \n",
       "1  We thought that we'd find justice most easily ...   \n",
       "2  The faces of the enemy disappeared, and he no ...   \n",
       "3  Can we really consider it as conceivable that ...   \n",
       "4                    whereof I will speak presently.   \n",
       "\n",
       "   original_publication_date  corpus_edition_date  sentence_length  \\\n",
       "0                       1883                 1887               56   \n",
       "1                       -350                 1997              232   \n",
       "2                       1961                 2006              245   \n",
       "3                       1972                 1990               79   \n",
       "4                       1677                 2003               31   \n",
       "\n",
       "                                    sentence_lowered  \\\n",
       "0  hence a lessened demand for those commodities ...   \n",
       "1  we thought that we'd find justice most easily ...   \n",
       "2  the faces of the enemy disappeared, and he no ...   \n",
       "3  can we really consider it as conceivable that ...   \n",
       "4                    whereof i will speak presently.   \n",
       "\n",
       "                                       tokenized_txt  \\\n",
       "0  ['hence', 'lessened', 'demand', 'for', 'those'...   \n",
       "1  ['we', 'thought', 'that', 'we', 'find', 'justi...   \n",
       "2  ['the', 'faces', 'of', 'the', 'enemy', 'disapp...   \n",
       "3  ['can', 'we', 'really', 'consider', 'it', 'as'...   \n",
       "4          ['whereof', 'will', 'speak', 'presently']   \n",
       "\n",
       "                                      lemmatized_str  \n",
       "0   hence a lessen demand for those commodity voi...  \n",
       "1   -PRON- think that -PRON- would find justice m...  \n",
       "2   the face of the enemy disappear , and -PRON- ...  \n",
       "3   Can -PRON- really consider -PRON- as conceiva...  \n",
       "4              whereof -PRON- will speak presently .  "
      ]
     },
     "execution_count": 27,
     "metadata": {},
     "output_type": "execute_result"
    }
   ],
   "source": [
    "# store result in a dataframe\n",
    "\n",
    "results_df = pd.DataFrame(res).T\n",
    "results_df = results_df.merge(sampledf, left_index=True, right_index=True)\n",
    "results_df.head()"
   ]
  },
  {
   "cell_type": "code",
   "execution_count": 28,
   "id": "5079a44b",
   "metadata": {
    "execution": {
     "iopub.execute_input": "2024-04-24T14:49:52.208201Z",
     "iopub.status.busy": "2024-04-24T14:49:52.207766Z",
     "iopub.status.idle": "2024-04-24T14:49:52.247890Z",
     "shell.execute_reply": "2024-04-24T14:49:52.246311Z"
    },
    "papermill": {
     "duration": 0.067648,
     "end_time": "2024-04-24T14:49:52.250924",
     "exception": false,
     "start_time": "2024-04-24T14:49:52.183276",
     "status": "completed"
    },
    "tags": []
   },
   "outputs": [],
   "source": [
    "# i will save the results df to a csv file called philosophy_results.csv so you can check the output for that\n",
    "\n",
    "results_df.to_csv('/kaggle/working/philosophy_results.csv')"
   ]
  },
  {
   "cell_type": "markdown",
   "id": "a641b544",
   "metadata": {
    "papermill": {
     "duration": 0.025353,
     "end_time": "2024-04-24T14:49:52.300564",
     "exception": false,
     "start_time": "2024-04-24T14:49:52.275211",
     "status": "completed"
    },
    "tags": []
   },
   "source": [
    "# Compare Results"
   ]
  },
  {
   "cell_type": "code",
   "execution_count": 29,
   "id": "fd2835dc",
   "metadata": {
    "execution": {
     "iopub.execute_input": "2024-04-24T14:49:52.349283Z",
     "iopub.status.busy": "2024-04-24T14:49:52.348864Z",
     "iopub.status.idle": "2024-04-24T14:49:52.356689Z",
     "shell.execute_reply": "2024-04-24T14:49:52.355506Z"
    },
    "papermill": {
     "duration": 0.03544,
     "end_time": "2024-04-24T14:49:52.359366",
     "exception": false,
     "start_time": "2024-04-24T14:49:52.323926",
     "status": "completed"
    },
    "tags": []
   },
   "outputs": [
    {
     "data": {
      "text/plain": [
       "Index(['vader_neg', 'vader_neu', 'vader_pos', 'vader_compound', 'roberta_neg',\n",
       "       'roberta_neu', 'roberts_pos', 'index', 'title', 'author', 'school',\n",
       "       'sentence_spacy', 'sentence_str', 'original_publication_date',\n",
       "       'corpus_edition_date', 'sentence_length', 'sentence_lowered',\n",
       "       'tokenized_txt', 'lemmatized_str'],\n",
       "      dtype='object')"
      ]
     },
     "execution_count": 29,
     "metadata": {},
     "output_type": "execute_result"
    }
   ],
   "source": [
    "results_df.columns"
   ]
  },
  {
   "cell_type": "code",
   "execution_count": 30,
   "id": "9cf242d8",
   "metadata": {
    "execution": {
     "iopub.execute_input": "2024-04-24T14:49:52.406947Z",
     "iopub.status.busy": "2024-04-24T14:49:52.406530Z",
     "iopub.status.idle": "2024-04-24T14:50:04.263724Z",
     "shell.execute_reply": "2024-04-24T14:50:04.262448Z"
    },
    "papermill": {
     "duration": 11.888437,
     "end_time": "2024-04-24T14:50:04.270736",
     "exception": false,
     "start_time": "2024-04-24T14:49:52.382299",
     "status": "completed"
    },
    "tags": []
   },
   "outputs": [
    {
     "name": "stderr",
     "output_type": "stream",
     "text": [
      "/opt/conda/lib/python3.10/site-packages/seaborn/_oldcore.py:1119: FutureWarning: use_inf_as_na option is deprecated and will be removed in a future version. Convert inf values to NaN before operating instead.\n",
      "  with pd.option_context('mode.use_inf_as_na', True):\n",
      "/opt/conda/lib/python3.10/site-packages/seaborn/_oldcore.py:1119: FutureWarning: use_inf_as_na option is deprecated and will be removed in a future version. Convert inf values to NaN before operating instead.\n",
      "  with pd.option_context('mode.use_inf_as_na', True):\n",
      "/opt/conda/lib/python3.10/site-packages/seaborn/_oldcore.py:1119: FutureWarning: use_inf_as_na option is deprecated and will be removed in a future version. Convert inf values to NaN before operating instead.\n",
      "  with pd.option_context('mode.use_inf_as_na', True):\n",
      "/opt/conda/lib/python3.10/site-packages/seaborn/_oldcore.py:1119: FutureWarning: use_inf_as_na option is deprecated and will be removed in a future version. Convert inf values to NaN before operating instead.\n",
      "  with pd.option_context('mode.use_inf_as_na', True):\n",
      "/opt/conda/lib/python3.10/site-packages/seaborn/_oldcore.py:1119: FutureWarning: use_inf_as_na option is deprecated and will be removed in a future version. Convert inf values to NaN before operating instead.\n",
      "  with pd.option_context('mode.use_inf_as_na', True):\n",
      "/opt/conda/lib/python3.10/site-packages/seaborn/_oldcore.py:1119: FutureWarning: use_inf_as_na option is deprecated and will be removed in a future version. Convert inf values to NaN before operating instead.\n",
      "  with pd.option_context('mode.use_inf_as_na', True):\n"
     ]
    },
    {
     "data": {
      "image/png": "[encoded data removed]",
      "text/plain": [
       "<Figure size 1500x1500 with 42 Axes>"
      ]
     },
     "metadata": {},
     "output_type": "display_data"
    }
   ],
   "source": [
    "sns.pairplot(data=results_df,\n",
    "            vars=['vader_neg', 'vader_neu', 'vader_pos', \n",
    "                 'roberta_neg', 'roberta_neu', 'roberts_pos']\n",
    "            )\n",
    "plt.show()"
   ]
  },
  {
   "cell_type": "markdown",
   "id": "de8051a5",
   "metadata": {
    "papermill": {
     "duration": 0.028727,
     "end_time": "2024-04-24T14:50:04.329588",
     "exception": false,
     "start_time": "2024-04-24T14:50:04.300861",
     "status": "completed"
    },
    "tags": []
   },
   "source": [
    "### I just want to get one score from the Roberta model to use"
   ]
  },
  {
   "cell_type": "code",
   "execution_count": 31,
   "id": "39476914",
   "metadata": {
    "execution": {
     "iopub.execute_input": "2024-04-24T14:50:04.389846Z",
     "iopub.status.busy": "2024-04-24T14:50:04.389438Z",
     "iopub.status.idle": "2024-04-24T14:50:29.208439Z",
     "shell.execute_reply": "2024-04-24T14:50:29.207396Z"
    },
    "papermill": {
     "duration": 24.852584,
     "end_time": "2024-04-24T14:50:29.211294",
     "exception": false,
     "start_time": "2024-04-24T14:50:04.358710",
     "status": "completed"
    },
    "tags": []
   },
   "outputs": [
    {
     "name": "stderr",
     "output_type": "stream",
     "text": [
      "2024-04-24 14:50:06.512608: E external/local_xla/xla/stream_executor/cuda/cuda_dnn.cc:9261] Unable to register cuDNN factory: Attempting to register factory for plugin cuDNN when one has already been registered\n",
      "2024-04-24 14:50:06.512753: E external/local_xla/xla/stream_executor/cuda/cuda_fft.cc:607] Unable to register cuFFT factory: Attempting to register factory for plugin cuFFT when one has already been registered\n",
      "2024-04-24 14:50:06.670827: E external/local_xla/xla/stream_executor/cuda/cuda_blas.cc:1515] Unable to register cuBLAS factory: Attempting to register factory for plugin cuBLAS when one has already been registered\n",
      "Some weights of the model checkpoint at cardiffnlp/twitter-roberta-base-sentiment-latest were not used when initializing RobertaForSequenceClassification: ['roberta.pooler.dense.bias', 'roberta.pooler.dense.weight']\n",
      "- This IS expected if you are initializing RobertaForSequenceClassification from the checkpoint of a model trained on another task or with another architecture (e.g. initializing a BertForSequenceClassification model from a BertForPreTraining model).\n",
      "- This IS NOT expected if you are initializing RobertaForSequenceClassification from the checkpoint of a model that you expect to be exactly identical (initializing a BertForSequenceClassification model from a BertForSequenceClassification model).\n"
     ]
    }
   ],
   "source": [
    "from transformers import pipeline\n",
    "\n",
    "sentiment_task = pipeline(\"sentiment-analysis\", model=f\"cardiffnlp/twitter-roberta-base-sentiment-latest\", tokenizer=AutoTokenizer.from_pretrained(MODEL))"
   ]
  },
  {
   "cell_type": "code",
   "execution_count": 32,
   "id": "e24152ac",
   "metadata": {
    "execution": {
     "iopub.execute_input": "2024-04-24T14:50:29.273574Z",
     "iopub.status.busy": "2024-04-24T14:50:29.273125Z",
     "iopub.status.idle": "2024-04-24T15:40:13.845671Z",
     "shell.execute_reply": "2024-04-24T15:40:13.844501Z"
    },
    "papermill": {
     "duration": 2984.607235,
     "end_time": "2024-04-24T15:40:13.848023",
     "exception": false,
     "start_time": "2024-04-24T14:50:29.240788",
     "status": "completed"
    },
    "tags": []
   },
   "outputs": [
    {
     "data": {
      "application/vnd.jupyter.widget-view+json": {
       "model_id": "d32ba89814dd42319974c5db7eec6a2a",
       "version_major": 2,
       "version_minor": 0
      },
      "text/plain": [
       "  0%|          | 0/30000 [00:00<?, ?it/s]"
      ]
     },
     "metadata": {},
     "output_type": "display_data"
    }
   ],
   "source": [
    "# let's run it on the whole dataset and store the results in a dictionary\n",
    "\n",
    "df = df.sample(n=30000).reset_index()\n",
    "\n",
    "res = {}\n",
    "for i, row in tqdm(df.iterrows(), total = len(df)):\n",
    "    text = row['sentence_lowered']\n",
    "    myid = row.name\n",
    "    res[myid] = sentiment_task(text)"
   ]
  },
  {
   "cell_type": "code",
   "execution_count": 33,
   "id": "73bc179d",
   "metadata": {
    "execution": {
     "iopub.execute_input": "2024-04-24T15:40:13.910541Z",
     "iopub.status.busy": "2024-04-24T15:40:13.909524Z",
     "iopub.status.idle": "2024-04-24T15:40:15.173822Z",
     "shell.execute_reply": "2024-04-24T15:40:15.172680Z"
    },
    "papermill": {
     "duration": 1.29765,
     "end_time": "2024-04-24T15:40:15.176400",
     "exception": false,
     "start_time": "2024-04-24T15:40:13.878750",
     "status": "completed"
    },
    "tags": []
   },
   "outputs": [
    {
     "data": {
      "text/html": [
       "<div>\n",
       "<style scoped>\n",
       "    .dataframe tbody tr th:only-of-type {\n",
       "        vertical-align: middle;\n",
       "    }\n",
       "\n",
       "    .dataframe tbody tr th {\n",
       "        vertical-align: top;\n",
       "    }\n",
       "\n",
       "    .dataframe thead th {\n",
       "        text-align: right;\n",
       "    }\n",
       "</style>\n",
       "<table border=\"1\" class=\"dataframe\">\n",
       "  <thead>\n",
       "    <tr style=\"text-align: right;\">\n",
       "      <th></th>\n",
       "      <th>roberta_output</th>\n",
       "      <th>index</th>\n",
       "      <th>title</th>\n",
       "      <th>author</th>\n",
       "      <th>school</th>\n",
       "      <th>sentence_spacy</th>\n",
       "      <th>sentence_str</th>\n",
       "      <th>original_publication_date</th>\n",
       "      <th>corpus_edition_date</th>\n",
       "      <th>sentence_length</th>\n",
       "      <th>sentence_lowered</th>\n",
       "      <th>tokenized_txt</th>\n",
       "      <th>lemmatized_str</th>\n",
       "    </tr>\n",
       "  </thead>\n",
       "  <tbody>\n",
       "    <tr>\n",
       "      <th>0</th>\n",
       "      <td>{'label': 'neutral', 'score': 0.8806995153427124}</td>\n",
       "      <td>162138</td>\n",
       "      <td>Quintessence</td>\n",
       "      <td>Quine</td>\n",
       "      <td>analytic</td>\n",
       "      <td>It a be put in three Anglo Saxon monosyllables...</td>\n",
       "      <td>It a be put in three Anglo Saxon monosyllables...</td>\n",
       "      <td>1950</td>\n",
       "      <td>2004</td>\n",
       "      <td>62</td>\n",
       "      <td>it a be put in three anglo saxon monosyllables...</td>\n",
       "      <td>['it', 'be', 'put', 'in', 'three', 'anglo', 's...</td>\n",
       "      <td>-PRON- a be put in three Anglo Saxon monosyll...</td>\n",
       "    </tr>\n",
       "    <tr>\n",
       "      <th>1</th>\n",
       "      <td>{'label': 'neutral', 'score': 0.5634997487068176}</td>\n",
       "      <td>335213</td>\n",
       "      <td>Twilight Of The Idols</td>\n",
       "      <td>Nietzsche</td>\n",
       "      <td>nietzsche</td>\n",
       "      <td>It was precisely a death such as Christ's that...</td>\n",
       "      <td>It was precisely a death such as Christ's that...</td>\n",
       "      <td>1888</td>\n",
       "      <td>2016</td>\n",
       "      <td>71</td>\n",
       "      <td>it was precisely a death such as christ's that...</td>\n",
       "      <td>['it', 'was', 'precisely', 'death', 'such', 'a...</td>\n",
       "      <td>-PRON- be precisely a death such as Christ 's...</td>\n",
       "    </tr>\n",
       "    <tr>\n",
       "      <th>2</th>\n",
       "      <td>{'label': 'negative', 'score': 0.8469544053077...</td>\n",
       "      <td>247770</td>\n",
       "      <td>Off The Beaten Track</td>\n",
       "      <td>Heidegger</td>\n",
       "      <td>phenomenology</td>\n",
       "      <td>Could a mere translation have caused all this?</td>\n",
       "      <td>Could a mere translation have caused all this?</td>\n",
       "      <td>1950</td>\n",
       "      <td>2001</td>\n",
       "      <td>46</td>\n",
       "      <td>could a mere translation have caused all this?</td>\n",
       "      <td>['could', 'mere', 'translation', 'have', 'caus...</td>\n",
       "      <td>Could a mere translation have cause all this ?</td>\n",
       "    </tr>\n",
       "    <tr>\n",
       "      <th>3</th>\n",
       "      <td>{'label': 'neutral', 'score': 0.8547824025154114}</td>\n",
       "      <td>265099</td>\n",
       "      <td>The System Of Ethics</td>\n",
       "      <td>Fichte</td>\n",
       "      <td>german_idealism</td>\n",
       "      <td>All consciousness therefore begins with someth...</td>\n",
       "      <td>All consciousness therefore begins with someth...</td>\n",
       "      <td>1798</td>\n",
       "      <td>2005</td>\n",
       "      <td>185</td>\n",
       "      <td>all consciousness therefore begins with someth...</td>\n",
       "      <td>['all', 'consciousness', 'therefore', 'begins'...</td>\n",
       "      <td>all consciousness therefore begin with someth...</td>\n",
       "    </tr>\n",
       "    <tr>\n",
       "      <th>4</th>\n",
       "      <td>{'label': 'neutral', 'score': 0.7378984093666077}</td>\n",
       "      <td>141859</td>\n",
       "      <td>Philosophical Investigations</td>\n",
       "      <td>Wittgenstein</td>\n",
       "      <td>analytic</td>\n",
       "      <td>But if I make the supposition that I can feel ...</td>\n",
       "      <td>But if I make the supposition that I can feel ...</td>\n",
       "      <td>1953</td>\n",
       "      <td>1986</td>\n",
       "      <td>134</td>\n",
       "      <td>but if i make the supposition that i can feel ...</td>\n",
       "      <td>['but', 'if', 'make', 'the', 'supposition', 't...</td>\n",
       "      <td>but if -PRON- make the supposition that -PRON...</td>\n",
       "    </tr>\n",
       "  </tbody>\n",
       "</table>\n",
       "</div>"
      ],
      "text/plain": [
       "                                      roberta_output   index  \\\n",
       "0  {'label': 'neutral', 'score': 0.8806995153427124}  162138   \n",
       "1  {'label': 'neutral', 'score': 0.5634997487068176}  335213   \n",
       "2  {'label': 'negative', 'score': 0.8469544053077...  247770   \n",
       "3  {'label': 'neutral', 'score': 0.8547824025154114}  265099   \n",
       "4  {'label': 'neutral', 'score': 0.7378984093666077}  141859   \n",
       "\n",
       "                          title        author           school  \\\n",
       "0                  Quintessence         Quine         analytic   \n",
       "1         Twilight Of The Idols     Nietzsche        nietzsche   \n",
       "2          Off The Beaten Track     Heidegger    phenomenology   \n",
       "3          The System Of Ethics        Fichte  german_idealism   \n",
       "4  Philosophical Investigations  Wittgenstein         analytic   \n",
       "\n",
       "                                      sentence_spacy  \\\n",
       "0  It a be put in three Anglo Saxon monosyllables...   \n",
       "1  It was precisely a death such as Christ's that...   \n",
       "2     Could a mere translation have caused all this?   \n",
       "3  All consciousness therefore begins with someth...   \n",
       "4  But if I make the supposition that I can feel ...   \n",
       "\n",
       "                                        sentence_str  \\\n",
       "0  It a be put in three Anglo Saxon monosyllables...   \n",
       "1  It was precisely a death such as Christ's that...   \n",
       "2     Could a mere translation have caused all this?   \n",
       "3  All consciousness therefore begins with someth...   \n",
       "4  But if I make the supposition that I can feel ...   \n",
       "\n",
       "   original_publication_date  corpus_edition_date  sentence_length  \\\n",
       "0                       1950                 2004               62   \n",
       "1                       1888                 2016               71   \n",
       "2                       1950                 2001               46   \n",
       "3                       1798                 2005              185   \n",
       "4                       1953                 1986              134   \n",
       "\n",
       "                                    sentence_lowered  \\\n",
       "0  it a be put in three anglo saxon monosyllables...   \n",
       "1  it was precisely a death such as christ's that...   \n",
       "2     could a mere translation have caused all this?   \n",
       "3  all consciousness therefore begins with someth...   \n",
       "4  but if i make the supposition that i can feel ...   \n",
       "\n",
       "                                       tokenized_txt  \\\n",
       "0  ['it', 'be', 'put', 'in', 'three', 'anglo', 's...   \n",
       "1  ['it', 'was', 'precisely', 'death', 'such', 'a...   \n",
       "2  ['could', 'mere', 'translation', 'have', 'caus...   \n",
       "3  ['all', 'consciousness', 'therefore', 'begins'...   \n",
       "4  ['but', 'if', 'make', 'the', 'supposition', 't...   \n",
       "\n",
       "                                      lemmatized_str  \n",
       "0   -PRON- a be put in three Anglo Saxon monosyll...  \n",
       "1   -PRON- be precisely a death such as Christ 's...  \n",
       "2     Could a mere translation have cause all this ?  \n",
       "3   all consciousness therefore begin with someth...  \n",
       "4   but if -PRON- make the supposition that -PRON...  "
      ]
     },
     "execution_count": 33,
     "metadata": {},
     "output_type": "execute_result"
    }
   ],
   "source": [
    "# store result in a dataframe\n",
    "\n",
    "results_df = pd.DataFrame(res).T\n",
    "results_df = results_df.merge(df, left_index=True, right_index=True)\n",
    "results_df.rename(columns={0 : 'roberta_output'},inplace=True)\n",
    "results_df.head()"
   ]
  },
  {
   "cell_type": "code",
   "execution_count": 34,
   "id": "0b5b6018",
   "metadata": {
    "execution": {
     "iopub.execute_input": "2024-04-24T15:40:15.239330Z",
     "iopub.status.busy": "2024-04-24T15:40:15.238295Z",
     "iopub.status.idle": "2024-04-24T15:40:15.318992Z",
     "shell.execute_reply": "2024-04-24T15:40:15.317868Z"
    },
    "papermill": {
     "duration": 0.11454,
     "end_time": "2024-04-24T15:40:15.321470",
     "exception": false,
     "start_time": "2024-04-24T15:40:15.206930",
     "status": "completed"
    },
    "tags": []
   },
   "outputs": [
    {
     "data": {
      "text/html": [
       "<div>\n",
       "<style scoped>\n",
       "    .dataframe tbody tr th:only-of-type {\n",
       "        vertical-align: middle;\n",
       "    }\n",
       "\n",
       "    .dataframe tbody tr th {\n",
       "        vertical-align: top;\n",
       "    }\n",
       "\n",
       "    .dataframe thead th {\n",
       "        text-align: right;\n",
       "    }\n",
       "</style>\n",
       "<table border=\"1\" class=\"dataframe\">\n",
       "  <thead>\n",
       "    <tr style=\"text-align: right;\">\n",
       "      <th></th>\n",
       "      <th>roberta_output</th>\n",
       "      <th>index</th>\n",
       "      <th>title</th>\n",
       "      <th>author</th>\n",
       "      <th>school</th>\n",
       "      <th>sentence_spacy</th>\n",
       "      <th>sentence_str</th>\n",
       "      <th>original_publication_date</th>\n",
       "      <th>corpus_edition_date</th>\n",
       "      <th>sentence_length</th>\n",
       "      <th>sentence_lowered</th>\n",
       "      <th>tokenized_txt</th>\n",
       "      <th>lemmatized_str</th>\n",
       "      <th>roberta_label</th>\n",
       "      <th>roberta_score</th>\n",
       "    </tr>\n",
       "  </thead>\n",
       "  <tbody>\n",
       "    <tr>\n",
       "      <th>0</th>\n",
       "      <td>{'label': 'neutral', 'score': 0.8806995153427124}</td>\n",
       "      <td>162138</td>\n",
       "      <td>Quintessence</td>\n",
       "      <td>Quine</td>\n",
       "      <td>analytic</td>\n",
       "      <td>It a be put in three Anglo Saxon monosyllables...</td>\n",
       "      <td>It a be put in three Anglo Saxon monosyllables...</td>\n",
       "      <td>1950</td>\n",
       "      <td>2004</td>\n",
       "      <td>62</td>\n",
       "      <td>it a be put in three anglo saxon monosyllables...</td>\n",
       "      <td>['it', 'be', 'put', 'in', 'three', 'anglo', 's...</td>\n",
       "      <td>-PRON- a be put in three Anglo Saxon monosyll...</td>\n",
       "      <td>neutral</td>\n",
       "      <td>0.88</td>\n",
       "    </tr>\n",
       "    <tr>\n",
       "      <th>1</th>\n",
       "      <td>{'label': 'neutral', 'score': 0.5634997487068176}</td>\n",
       "      <td>335213</td>\n",
       "      <td>Twilight Of The Idols</td>\n",
       "      <td>Nietzsche</td>\n",
       "      <td>nietzsche</td>\n",
       "      <td>It was precisely a death such as Christ's that...</td>\n",
       "      <td>It was precisely a death such as Christ's that...</td>\n",
       "      <td>1888</td>\n",
       "      <td>2016</td>\n",
       "      <td>71</td>\n",
       "      <td>it was precisely a death such as christ's that...</td>\n",
       "      <td>['it', 'was', 'precisely', 'death', 'such', 'a...</td>\n",
       "      <td>-PRON- be precisely a death such as Christ 's...</td>\n",
       "      <td>neutral</td>\n",
       "      <td>0.56</td>\n",
       "    </tr>\n",
       "    <tr>\n",
       "      <th>2</th>\n",
       "      <td>{'label': 'negative', 'score': 0.8469544053077...</td>\n",
       "      <td>247770</td>\n",
       "      <td>Off The Beaten Track</td>\n",
       "      <td>Heidegger</td>\n",
       "      <td>phenomenology</td>\n",
       "      <td>Could a mere translation have caused all this?</td>\n",
       "      <td>Could a mere translation have caused all this?</td>\n",
       "      <td>1950</td>\n",
       "      <td>2001</td>\n",
       "      <td>46</td>\n",
       "      <td>could a mere translation have caused all this?</td>\n",
       "      <td>['could', 'mere', 'translation', 'have', 'caus...</td>\n",
       "      <td>Could a mere translation have cause all this ?</td>\n",
       "      <td>negative</td>\n",
       "      <td>0.85</td>\n",
       "    </tr>\n",
       "    <tr>\n",
       "      <th>3</th>\n",
       "      <td>{'label': 'neutral', 'score': 0.8547824025154114}</td>\n",
       "      <td>265099</td>\n",
       "      <td>The System Of Ethics</td>\n",
       "      <td>Fichte</td>\n",
       "      <td>german_idealism</td>\n",
       "      <td>All consciousness therefore begins with someth...</td>\n",
       "      <td>All consciousness therefore begins with someth...</td>\n",
       "      <td>1798</td>\n",
       "      <td>2005</td>\n",
       "      <td>185</td>\n",
       "      <td>all consciousness therefore begins with someth...</td>\n",
       "      <td>['all', 'consciousness', 'therefore', 'begins'...</td>\n",
       "      <td>all consciousness therefore begin with someth...</td>\n",
       "      <td>neutral</td>\n",
       "      <td>0.85</td>\n",
       "    </tr>\n",
       "    <tr>\n",
       "      <th>4</th>\n",
       "      <td>{'label': 'neutral', 'score': 0.7378984093666077}</td>\n",
       "      <td>141859</td>\n",
       "      <td>Philosophical Investigations</td>\n",
       "      <td>Wittgenstein</td>\n",
       "      <td>analytic</td>\n",
       "      <td>But if I make the supposition that I can feel ...</td>\n",
       "      <td>But if I make the supposition that I can feel ...</td>\n",
       "      <td>1953</td>\n",
       "      <td>1986</td>\n",
       "      <td>134</td>\n",
       "      <td>but if i make the supposition that i can feel ...</td>\n",
       "      <td>['but', 'if', 'make', 'the', 'supposition', 't...</td>\n",
       "      <td>but if -PRON- make the supposition that -PRON...</td>\n",
       "      <td>neutral</td>\n",
       "      <td>0.74</td>\n",
       "    </tr>\n",
       "  </tbody>\n",
       "</table>\n",
       "</div>"
      ],
      "text/plain": [
       "                                      roberta_output   index  \\\n",
       "0  {'label': 'neutral', 'score': 0.8806995153427124}  162138   \n",
       "1  {'label': 'neutral', 'score': 0.5634997487068176}  335213   \n",
       "2  {'label': 'negative', 'score': 0.8469544053077...  247770   \n",
       "3  {'label': 'neutral', 'score': 0.8547824025154114}  265099   \n",
       "4  {'label': 'neutral', 'score': 0.7378984093666077}  141859   \n",
       "\n",
       "                          title        author           school  \\\n",
       "0                  Quintessence         Quine         analytic   \n",
       "1         Twilight Of The Idols     Nietzsche        nietzsche   \n",
       "2          Off The Beaten Track     Heidegger    phenomenology   \n",
       "3          The System Of Ethics        Fichte  german_idealism   \n",
       "4  Philosophical Investigations  Wittgenstein         analytic   \n",
       "\n",
       "                                      sentence_spacy  \\\n",
       "0  It a be put in three Anglo Saxon monosyllables...   \n",
       "1  It was precisely a death such as Christ's that...   \n",
       "2     Could a mere translation have caused all this?   \n",
       "3  All consciousness therefore begins with someth...   \n",
       "4  But if I make the supposition that I can feel ...   \n",
       "\n",
       "                                        sentence_str  \\\n",
       "0  It a be put in three Anglo Saxon monosyllables...   \n",
       "1  It was precisely a death such as Christ's that...   \n",
       "2     Could a mere translation have caused all this?   \n",
       "3  All consciousness therefore begins with someth...   \n",
       "4  But if I make the supposition that I can feel ...   \n",
       "\n",
       "   original_publication_date  corpus_edition_date  sentence_length  \\\n",
       "0                       1950                 2004               62   \n",
       "1                       1888                 2016               71   \n",
       "2                       1950                 2001               46   \n",
       "3                       1798                 2005              185   \n",
       "4                       1953                 1986              134   \n",
       "\n",
       "                                    sentence_lowered  \\\n",
       "0  it a be put in three anglo saxon monosyllables...   \n",
       "1  it was precisely a death such as christ's that...   \n",
       "2     could a mere translation have caused all this?   \n",
       "3  all consciousness therefore begins with someth...   \n",
       "4  but if i make the supposition that i can feel ...   \n",
       "\n",
       "                                       tokenized_txt  \\\n",
       "0  ['it', 'be', 'put', 'in', 'three', 'anglo', 's...   \n",
       "1  ['it', 'was', 'precisely', 'death', 'such', 'a...   \n",
       "2  ['could', 'mere', 'translation', 'have', 'caus...   \n",
       "3  ['all', 'consciousness', 'therefore', 'begins'...   \n",
       "4  ['but', 'if', 'make', 'the', 'supposition', 't...   \n",
       "\n",
       "                                      lemmatized_str roberta_label  \\\n",
       "0   -PRON- a be put in three Anglo Saxon monosyll...       neutral   \n",
       "1   -PRON- be precisely a death such as Christ 's...       neutral   \n",
       "2     Could a mere translation have cause all this ?      negative   \n",
       "3   all consciousness therefore begin with someth...       neutral   \n",
       "4   but if -PRON- make the supposition that -PRON...       neutral   \n",
       "\n",
       "   roberta_score  \n",
       "0           0.88  \n",
       "1           0.56  \n",
       "2           0.85  \n",
       "3           0.85  \n",
       "4           0.74  "
      ]
     },
     "execution_count": 34,
     "metadata": {},
     "output_type": "execute_result"
    }
   ],
   "source": [
    "results_df['roberta_label'] = results_df['roberta_output'].apply(lambda x: x['label'])\n",
    "results_df['roberta_score'] = results_df['roberta_output'].apply(lambda x: round(x['score'], 2))\n",
    "\n",
    "results_df.head()"
   ]
  },
  {
   "cell_type": "code",
   "execution_count": 35,
   "id": "9f3f5459",
   "metadata": {
    "execution": {
     "iopub.execute_input": "2024-04-24T15:40:15.384822Z",
     "iopub.status.busy": "2024-04-24T15:40:15.384401Z",
     "iopub.status.idle": "2024-04-24T15:40:17.054085Z",
     "shell.execute_reply": "2024-04-24T15:40:17.052876Z"
    },
    "papermill": {
     "duration": 1.704797,
     "end_time": "2024-04-24T15:40:17.056823",
     "exception": false,
     "start_time": "2024-04-24T15:40:15.352026",
     "status": "completed"
    },
    "tags": []
   },
   "outputs": [],
   "source": [
    "results_df.to_csv('/kaggle/working/philosophy_roberta_results.csv')"
   ]
  }
 ],
 "metadata": {
  "kaggle": {
   "accelerator": "none",
   "dataSources": [
    {
     "datasetId": 1148703,
     "sourceId": 2075750,
     "sourceType": "datasetVersion"
    }
   ],
   "dockerImageVersionId": 30673,
   "isGpuEnabled": false,
   "isInternetEnabled": true,
   "language": "python",
   "sourceType": "notebook"
  },
  "kernelspec": {
   "display_name": "Python 3",
   "language": "python",
   "name": "python3"
  },
  "language_info": {
   "codemirror_mode": {
    "name": "ipython",
    "version": 3
   },
   "file_extension": ".py",
   "mimetype": "text/x-python",
   "name": "python",
   "nbconvert_exporter": "python",
   "pygments_lexer": "ipython3",
   "version": "3.10.13"
  },
  "papermill": {
   "default_parameters": {},
   "duration": 3177.229815,
   "end_time": "2024-04-24T15:40:20.573198",
   "environment_variables": {},
   "exception": null,
   "input_path": "__notebook__.ipynb",
   "output_path": "__notebook__.ipynb",
   "parameters": {},
   "start_time": "2024-04-24T14:47:23.343383",
   "version": "2.5.0"
  },
  "widgets": {
   "application/vnd.jupyter.widget-state+json": {
    "state": {
     "00876e8d3f2c4b20997c160171c75d2d": {
      "model_module": "@jupyter-widgets/controls",
      "model_module_version": "1.5.0",
      "model_name": "ProgressStyleModel",
      "state": {
       "_model_module": "@jupyter-widgets/controls",
       "_model_module_version": "1.5.0",
       "_model_name": "ProgressStyleModel",
       "_view_count": null,
       "_view_module": "@jupyter-widgets/base",
       "_view_module_version": "1.2.0",
       "_view_name": "StyleView",
       "bar_color": null,
       "description_width": ""
      }
     },
     "00dd1d3d24e540a9aad74c68e69a9228": {
      "model_module": "@jupyter-widgets/controls",
      "model_module_version": "1.5.0",
      "model_name": "HTMLModel",
      "state": {
       "_dom_classes": [],
       "_model_module": "@jupyter-widgets/controls",
       "_model_module_version": "1.5.0",
       "_model_name": "HTMLModel",
       "_view_count": null,
       "_view_module": "@jupyter-widgets/controls",
       "_view_module_version": "1.5.0",
       "_view_name": "HTMLView",
       "description": "",
       "description_tooltip": null,
       "layout": "IPY_MODEL_d1d01c8cc13c4526804b58ef95a13a2b",
       "placeholder": "​",
       "style": "IPY_MODEL_e20e7759bd7a4310989820022f2f59d8",
       "value": " 30000/30000 [49:44&lt;00:00,  9.70it/s]"
      }
     },
     "0378334d102b440495c4410afaf5309e": {
      "model_module": "@jupyter-widgets/base",
      "model_module_version": "1.2.0",
      "model_name": "LayoutModel",
      "state": {
       "_model_module": "@jupyter-widgets/base",
       "_model_module_version": "1.2.0",
       "_model_name": "LayoutModel",
       "_view_count": null,
       "_view_module": "@jupyter-widgets/base",
       "_view_module_version": "1.2.0",
       "_view_name": "LayoutView",
       "align_content": null,
       "align_items": null,
       "align_self": null,
       "border": null,
       "bottom": null,
       "display": null,
       "flex": null,
       "flex_flow": null,
       "grid_area": null,
       "grid_auto_columns": null,
       "grid_auto_flow": null,
       "grid_auto_rows": null,
       "grid_column": null,
       "grid_gap": null,
       "grid_row": null,
       "grid_template_areas": null,
       "grid_template_columns": null,
       "grid_template_rows": null,
       "height": null,
       "justify_content": null,
       "justify_items": null,
       "left": null,
       "margin": null,
       "max_height": null,
       "max_width": null,
       "min_height": null,
       "min_width": null,
       "object_fit": null,
       "object_position": null,
       "order": null,
       "overflow": null,
       "overflow_x": null,
       "overflow_y": null,
       "padding": null,
       "right": null,
       "top": null,
       "visibility": null,
       "width": null
      }
     },
     "058ec41464dd42baadb783148f9900c2": {
      "model_module": "@jupyter-widgets/controls",
      "model_module_version": "1.5.0",
      "model_name": "DescriptionStyleModel",
      "state": {
       "_model_module": "@jupyter-widgets/controls",
       "_model_module_version": "1.5.0",
       "_model_name": "DescriptionStyleModel",
       "_view_count": null,
       "_view_module": "@jupyter-widgets/base",
       "_view_module_version": "1.2.0",
       "_view_name": "StyleView",
       "description_width": ""
      }
     },
     "09bd64a4827a4137a6e9e18d5cb2d0c0": {
      "model_module": "@jupyter-widgets/base",
      "model_module_version": "1.2.0",
      "model_name": "LayoutModel",
      "state": {
       "_model_module": "@jupyter-widgets/base",
       "_model_module_version": "1.2.0",
       "_model_name": "LayoutModel",
       "_view_count": null,
       "_view_module": "@jupyter-widgets/base",
       "_view_module_version": "1.2.0",
       "_view_name": "LayoutView",
       "align_content": null,
       "align_items": null,
       "align_self": null,
       "border": null,
       "bottom": null,
       "display": null,
       "flex": null,
       "flex_flow": null,
       "grid_area": null,
       "grid_auto_columns": null,
       "grid_auto_flow": null,
       "grid_auto_rows": null,
       "grid_column": null,
       "grid_gap": null,
       "grid_row": null,
       "grid_template_areas": null,
       "grid_template_columns": null,
       "grid_template_rows": null,
       "height": null,
       "justify_content": null,
       "justify_items": null,
       "left": null,
       "margin": null,
       "max_height": null,
       "max_width": null,
       "min_height": null,
       "min_width": null,
       "object_fit": null,
       "object_position": null,
       "order": null,
       "overflow": null,
       "overflow_x": null,
       "overflow_y": null,
       "padding": null,
       "right": null,
       "top": null,
       "visibility": null,
       "width": null
      }
     },
     "0cf7e38a42fe4ff4a78606761ef75673": {
      "model_module": "@jupyter-widgets/controls",
      "model_module_version": "1.5.0",
      "model_name": "HBoxModel",
      "state": {
       "_dom_classes": [],
       "_model_module": "@jupyter-widgets/controls",
       "_model_module_version": "1.5.0",
       "_model_name": "HBoxModel",
       "_view_count": null,
       "_view_module": "@jupyter-widgets/controls",
       "_view_module_version": "1.5.0",
       "_view_name": "HBoxView",
       "box_style": "",
       "children": [
        "IPY_MODEL_9385d190796f48f8802263bdca5c2dba",
        "IPY_MODEL_6b770191afba4e8da6e9c417c13661a0",
        "IPY_MODEL_df04ae11d7074717b4610f7202df0beb"
       ],
       "layout": "IPY_MODEL_79d5c13c14e24743abdd566df2e67306"
      }
     },
     "1583f9b1ae924d5bb6e6012c82039bb4": {
      "model_module": "@jupyter-widgets/controls",
      "model_module_version": "1.5.0",
      "model_name": "DescriptionStyleModel",
      "state": {
       "_model_module": "@jupyter-widgets/controls",
       "_model_module_version": "1.5.0",
       "_model_name": "DescriptionStyleModel",
       "_view_count": null,
       "_view_module": "@jupyter-widgets/base",
       "_view_module_version": "1.2.0",
       "_view_name": "StyleView",
       "description_width": ""
      }
     },
     "16b52f3304134561b2c827a7543895d7": {
      "model_module": "@jupyter-widgets/base",
      "model_module_version": "1.2.0",
      "model_name": "LayoutModel",
      "state": {
       "_model_module": "@jupyter-widgets/base",
       "_model_module_version": "1.2.0",
       "_model_name": "LayoutModel",
       "_view_count": null,
       "_view_module": "@jupyter-widgets/base",
       "_view_module_version": "1.2.0",
       "_view_name": "LayoutView",
       "align_content": null,
       "align_items": null,
       "align_self": null,
       "border": null,
       "bottom": null,
       "display": null,
       "flex": null,
       "flex_flow": null,
       "grid_area": null,
       "grid_auto_columns": null,
       "grid_auto_flow": null,
       "grid_auto_rows": null,
       "grid_column": null,
       "grid_gap": null,
       "grid_row": null,
       "grid_template_areas": null,
       "grid_template_columns": null,
       "grid_template_rows": null,
       "height": null,
       "justify_content": null,
       "justify_items": null,
       "left": null,
       "margin": null,
       "max_height": null,
       "max_width": null,
       "min_height": null,
       "min_width": null,
       "object_fit": null,
       "object_position": null,
       "order": null,
       "overflow": null,
       "overflow_x": null,
       "overflow_y": null,
       "padding": null,
       "right": null,
       "top": null,
       "visibility": null,
       "width": null
      }
     },
     "18a99fd621f54c34b1cc820391d34540": {
      "model_module": "@jupyter-widgets/controls",
      "model_module_version": "1.5.0",
      "model_name": "DescriptionStyleModel",
      "state": {
       "_model_module": "@jupyter-widgets/controls",
       "_model_module_version": "1.5.0",
       "_model_name": "DescriptionStyleModel",
       "_view_count": null,
       "_view_module": "@jupyter-widgets/base",
       "_view_module_version": "1.2.0",
       "_view_name": "StyleView",
       "description_width": ""
      }
     },
     "18df471f6c3646beaa8e52e8754ba4e9": {
      "model_module": "@jupyter-widgets/controls",
      "model_module_version": "1.5.0",
      "model_name": "HBoxModel",
      "state": {
       "_dom_classes": [],
       "_model_module": "@jupyter-widgets/controls",
       "_model_module_version": "1.5.0",
       "_model_name": "HBoxModel",
       "_view_count": null,
       "_view_module": "@jupyter-widgets/controls",
       "_view_module_version": "1.5.0",
       "_view_name": "HBoxView",
       "box_style": "",
       "children": [
        "IPY_MODEL_e8e3c2b43dbe4f56a48af1043cfee40e",
        "IPY_MODEL_d7e481c79db54dbca2855fdcec9bd36f",
        "IPY_MODEL_c5cf1f49aeb54363baac72d2b1e71311"
       ],
       "layout": "IPY_MODEL_bf75bb617b554d24a94a5abc79c5f555"
      }
     },
     "1a286bdfb77a4b51af3138ea1732c55f": {
      "model_module": "@jupyter-widgets/base",
      "model_module_version": "1.2.0",
      "model_name": "LayoutModel",
      "state": {
       "_model_module": "@jupyter-widgets/base",
       "_model_module_version": "1.2.0",
       "_model_name": "LayoutModel",
       "_view_count": null,
       "_view_module": "@jupyter-widgets/base",
       "_view_module_version": "1.2.0",
       "_view_name": "LayoutView",
       "align_content": null,
       "align_items": null,
       "align_self": null,
       "border": null,
       "bottom": null,
       "display": null,
       "flex": null,
       "flex_flow": null,
       "grid_area": null,
       "grid_auto_columns": null,
       "grid_auto_flow": null,
       "grid_auto_rows": null,
       "grid_column": null,
       "grid_gap": null,
       "grid_row": null,
       "grid_template_areas": null,
       "grid_template_columns": null,
       "grid_template_rows": null,
       "height": null,
       "justify_content": null,
       "justify_items": null,
       "left": null,
       "margin": null,
       "max_height": null,
       "max_width": null,
       "min_height": null,
       "min_width": null,
       "object_fit": null,
       "object_position": null,
       "order": null,
       "overflow": null,
       "overflow_x": null,
       "overflow_y": null,
       "padding": null,
       "right": null,
       "top": null,
       "visibility": null,
       "width": null
      }
     },
     "1aa9e62b3a8c44108979fa0fbed944fc": {
      "model_module": "@jupyter-widgets/controls",
      "model_module_version": "1.5.0",
      "model_name": "HBoxModel",
      "state": {
       "_dom_classes": [],
       "_model_module": "@jupyter-widgets/controls",
       "_model_module_version": "1.5.0",
       "_model_name": "HBoxModel",
       "_view_count": null,
       "_view_module": "@jupyter-widgets/controls",
       "_view_module_version": "1.5.0",
       "_view_name": "HBoxView",
       "box_style": "",
       "children": [
        "IPY_MODEL_233001196f184708897ba0a3fff22ede",
        "IPY_MODEL_938081d9670742e088c12f79f84c35b9",
        "IPY_MODEL_aa9421d6c60744b1a80ffdff7021e6c1"
       ],
       "layout": "IPY_MODEL_364d8135590147c3b3ac8114fde706f1"
      }
     },
     "1b47a09c3bc246a6ad1273cfe31fee56": {
      "model_module": "@jupyter-widgets/base",
      "model_module_version": "1.2.0",
      "model_name": "LayoutModel",
      "state": {
       "_model_module": "@jupyter-widgets/base",
       "_model_module_version": "1.2.0",
       "_model_name": "LayoutModel",
       "_view_count": null,
       "_view_module": "@jupyter-widgets/base",
       "_view_module_version": "1.2.0",
       "_view_name": "LayoutView",
       "align_content": null,
       "align_items": null,
       "align_self": null,
       "border": null,
       "bottom": null,
       "display": null,
       "flex": null,
       "flex_flow": null,
       "grid_area": null,
       "grid_auto_columns": null,
       "grid_auto_flow": null,
       "grid_auto_rows": null,
       "grid_column": null,
       "grid_gap": null,
       "grid_row": null,
       "grid_template_areas": null,
       "grid_template_columns": null,
       "grid_template_rows": null,
       "height": null,
       "justify_content": null,
       "justify_items": null,
       "left": null,
       "margin": null,
       "max_height": null,
       "max_width": null,
       "min_height": null,
       "min_width": null,
       "object_fit": null,
       "object_position": null,
       "order": null,
       "overflow": null,
       "overflow_x": null,
       "overflow_y": null,
       "padding": null,
       "right": null,
       "top": null,
       "visibility": null,
       "width": null
      }
     },
     "1efa007235a14a1ab97f3670a2b685b6": {
      "model_module": "@jupyter-widgets/base",
      "model_module_version": "1.2.0",
      "model_name": "LayoutModel",
      "state": {
       "_model_module": "@jupyter-widgets/base",
       "_model_module_version": "1.2.0",
       "_model_name": "LayoutModel",
       "_view_count": null,
       "_view_module": "@jupyter-widgets/base",
       "_view_module_version": "1.2.0",
       "_view_name": "LayoutView",
       "align_content": null,
       "align_items": null,
       "align_self": null,
       "border": null,
       "bottom": null,
       "display": null,
       "flex": null,
       "flex_flow": null,
       "grid_area": null,
       "grid_auto_columns": null,
       "grid_auto_flow": null,
       "grid_auto_rows": null,
       "grid_column": null,
       "grid_gap": null,
       "grid_row": null,
       "grid_template_areas": null,
       "grid_template_columns": null,
       "grid_template_rows": null,
       "height": null,
       "justify_content": null,
       "justify_items": null,
       "left": null,
       "margin": null,
       "max_height": null,
       "max_width": null,
       "min_height": null,
       "min_width": null,
       "object_fit": null,
       "object_position": null,
       "order": null,
       "overflow": null,
       "overflow_x": null,
       "overflow_y": null,
       "padding": null,
       "right": null,
       "top": null,
       "visibility": null,
       "width": null
      }
     },
     "20fd16a5e2ad44209235eacd3244d7ee": {
      "model_module": "@jupyter-widgets/controls",
      "model_module_version": "1.5.0",
      "model_name": "FloatProgressModel",
      "state": {
       "_dom_classes": [],
       "_model_module": "@jupyter-widgets/controls",
       "_model_module_version": "1.5.0",
       "_model_name": "FloatProgressModel",
       "_view_count": null,
       "_view_module": "@jupyter-widgets/controls",
       "_view_module_version": "1.5.0",
       "_view_name": "ProgressView",
       "bar_style": "success",
       "description": "",
       "description_tooltip": null,
       "layout": "IPY_MODEL_44a847cb521b4a3991e566301477242b",
       "max": 500.0,
       "min": 0.0,
       "orientation": "horizontal",
       "style": "IPY_MODEL_c7bfe7d350f4418c93310229f2dd7b6d",
       "value": 500.0
      }
     },
     "21958f6243bd4f6e8151eb56f76757b6": {
      "model_module": "@jupyter-widgets/base",
      "model_module_version": "1.2.0",
      "model_name": "LayoutModel",
      "state": {
       "_model_module": "@jupyter-widgets/base",
       "_model_module_version": "1.2.0",
       "_model_name": "LayoutModel",
       "_view_count": null,
       "_view_module": "@jupyter-widgets/base",
       "_view_module_version": "1.2.0",
       "_view_name": "LayoutView",
       "align_content": null,
       "align_items": null,
       "align_self": null,
       "border": null,
       "bottom": null,
       "display": null,
       "flex": null,
       "flex_flow": null,
       "grid_area": null,
       "grid_auto_columns": null,
       "grid_auto_flow": null,
       "grid_auto_rows": null,
       "grid_column": null,
       "grid_gap": null,
       "grid_row": null,
       "grid_template_areas": null,
       "grid_template_columns": null,
       "grid_template_rows": null,
       "height": null,
       "justify_content": null,
       "justify_items": null,
       "left": null,
       "margin": null,
       "max_height": null,
       "max_width": null,
       "min_height": null,
       "min_width": null,
       "object_fit": null,
       "object_position": null,
       "order": null,
       "overflow": null,
       "overflow_x": null,
       "overflow_y": null,
       "padding": null,
       "right": null,
       "top": null,
       "visibility": null,
       "width": null
      }
     },
     "233001196f184708897ba0a3fff22ede": {
      "model_module": "@jupyter-widgets/controls",
      "model_module_version": "1.5.0",
      "model_name": "HTMLModel",
      "state": {
       "_dom_classes": [],
       "_model_module": "@jupyter-widgets/controls",
       "_model_module_version": "1.5.0",
       "_model_name": "HTMLModel",
       "_view_count": null,
       "_view_module": "@jupyter-widgets/controls",
       "_view_module_version": "1.5.0",
       "_view_name": "HTMLView",
       "description": "",
       "description_tooltip": null,
       "layout": "IPY_MODEL_eea926b79e924eb5b69489efd85146c9",
       "placeholder": "​",
       "style": "IPY_MODEL_8ce3cccf18a941c8b251eb7577033a37",
       "value": "vocab.json: 100%"
      }
     },
     "26dddf5c904c4a358c62a58eb52cc0f3": {
      "model_module": "@jupyter-widgets/controls",
      "model_module_version": "1.5.0",
      "model_name": "ProgressStyleModel",
      "state": {
       "_model_module": "@jupyter-widgets/controls",
       "_model_module_version": "1.5.0",
       "_model_name": "ProgressStyleModel",
       "_view_count": null,
       "_view_module": "@jupyter-widgets/base",
       "_view_module_version": "1.2.0",
       "_view_name": "StyleView",
       "bar_color": null,
       "description_width": ""
      }
     },
     "28e08833f74a4b35bdf6164c58ad53de": {
      "model_module": "@jupyter-widgets/controls",
      "model_module_version": "1.5.0",
      "model_name": "DescriptionStyleModel",
      "state": {
       "_model_module": "@jupyter-widgets/controls",
       "_model_module_version": "1.5.0",
       "_model_name": "DescriptionStyleModel",
       "_view_count": null,
       "_view_module": "@jupyter-widgets/base",
       "_view_module_version": "1.2.0",
       "_view_name": "StyleView",
       "description_width": ""
      }
     },
     "29fc43de7ea44569a93cb9497a837936": {
      "model_module": "@jupyter-widgets/base",
      "model_module_version": "1.2.0",
      "model_name": "LayoutModel",
      "state": {
       "_model_module": "@jupyter-widgets/base",
       "_model_module_version": "1.2.0",
       "_model_name": "LayoutModel",
       "_view_count": null,
       "_view_module": "@jupyter-widgets/base",
       "_view_module_version": "1.2.0",
       "_view_name": "LayoutView",
       "align_content": null,
       "align_items": null,
       "align_self": null,
       "border": null,
       "bottom": null,
       "display": null,
       "flex": null,
       "flex_flow": null,
       "grid_area": null,
       "grid_auto_columns": null,
       "grid_auto_flow": null,
       "grid_auto_rows": null,
       "grid_column": null,
       "grid_gap": null,
       "grid_row": null,
       "grid_template_areas": null,
       "grid_template_columns": null,
       "grid_template_rows": null,
       "height": null,
       "justify_content": null,
       "justify_items": null,
       "left": null,
       "margin": null,
       "max_height": null,
       "max_width": null,
       "min_height": null,
       "min_width": null,
       "object_fit": null,
       "object_position": null,
       "order": null,
       "overflow": null,
       "overflow_x": null,
       "overflow_y": null,
       "padding": null,
       "right": null,
       "top": null,
       "visibility": null,
       "width": null
      }
     },
     "2eea05f9601c4c2ca4104151b2912001": {
      "model_module": "@jupyter-widgets/controls",
      "model_module_version": "1.5.0",
      "model_name": "HBoxModel",
      "state": {
       "_dom_classes": [],
       "_model_module": "@jupyter-widgets/controls",
       "_model_module_version": "1.5.0",
       "_model_name": "HBoxModel",
       "_view_count": null,
       "_view_module": "@jupyter-widgets/controls",
       "_view_module_version": "1.5.0",
       "_view_name": "HBoxView",
       "box_style": "",
       "children": [
        "IPY_MODEL_b361b18c16df41c09db8a0550b851487",
        "IPY_MODEL_d47a40f298f14df7b19b89b41cf47b28",
        "IPY_MODEL_a749bdb70c04455086990509d7663c45"
       ],
       "layout": "IPY_MODEL_9aeab90fd89f45d7969f850ecb0eeae6"
      }
     },
     "2f328ee036bf45bebf88d59817e6a429": {
      "model_module": "@jupyter-widgets/controls",
      "model_module_version": "1.5.0",
      "model_name": "DescriptionStyleModel",
      "state": {
       "_model_module": "@jupyter-widgets/controls",
       "_model_module_version": "1.5.0",
       "_model_name": "DescriptionStyleModel",
       "_view_count": null,
       "_view_module": "@jupyter-widgets/base",
       "_view_module_version": "1.2.0",
       "_view_name": "StyleView",
       "description_width": ""
      }
     },
     "310d54b1140246ae8bcd6f56eeb20462": {
      "model_module": "@jupyter-widgets/controls",
      "model_module_version": "1.5.0",
      "model_name": "DescriptionStyleModel",
      "state": {
       "_model_module": "@jupyter-widgets/controls",
       "_model_module_version": "1.5.0",
       "_model_name": "DescriptionStyleModel",
       "_view_count": null,
       "_view_module": "@jupyter-widgets/base",
       "_view_module_version": "1.2.0",
       "_view_name": "StyleView",
       "description_width": ""
      }
     },
     "364d8135590147c3b3ac8114fde706f1": {
      "model_module": "@jupyter-widgets/base",
      "model_module_version": "1.2.0",
      "model_name": "LayoutModel",
      "state": {
       "_model_module": "@jupyter-widgets/base",
       "_model_module_version": "1.2.0",
       "_model_name": "LayoutModel",
       "_view_count": null,
       "_view_module": "@jupyter-widgets/base",
       "_view_module_version": "1.2.0",
       "_view_name": "LayoutView",
       "align_content": null,
       "align_items": null,
       "align_self": null,
       "border": null,
       "bottom": null,
       "display": null,
       "flex": null,
       "flex_flow": null,
       "grid_area": null,
       "grid_auto_columns": null,
       "grid_auto_flow": null,
       "grid_auto_rows": null,
       "grid_column": null,
       "grid_gap": null,
       "grid_row": null,
       "grid_template_areas": null,
       "grid_template_columns": null,
       "grid_template_rows": null,
       "height": null,
       "justify_content": null,
       "justify_items": null,
       "left": null,
       "margin": null,
       "max_height": null,
       "max_width": null,
       "min_height": null,
       "min_width": null,
       "object_fit": null,
       "object_position": null,
       "order": null,
       "overflow": null,
       "overflow_x": null,
       "overflow_y": null,
       "padding": null,
       "right": null,
       "top": null,
       "visibility": null,
       "width": null
      }
     },
     "3774d61c9b75493d9855f25fa4e944be": {
      "model_module": "@jupyter-widgets/controls",
      "model_module_version": "1.5.0",
      "model_name": "ProgressStyleModel",
      "state": {
       "_model_module": "@jupyter-widgets/controls",
       "_model_module_version": "1.5.0",
       "_model_name": "ProgressStyleModel",
       "_view_count": null,
       "_view_module": "@jupyter-widgets/base",
       "_view_module_version": "1.2.0",
       "_view_name": "StyleView",
       "bar_color": null,
       "description_width": ""
      }
     },
     "3e0f540ca6d54d028df1f8639e30ab67": {
      "model_module": "@jupyter-widgets/base",
      "model_module_version": "1.2.0",
      "model_name": "LayoutModel",
      "state": {
       "_model_module": "@jupyter-widgets/base",
       "_model_module_version": "1.2.0",
       "_model_name": "LayoutModel",
       "_view_count": null,
       "_view_module": "@jupyter-widgets/base",
       "_view_module_version": "1.2.0",
       "_view_name": "LayoutView",
       "align_content": null,
       "align_items": null,
       "align_self": null,
       "border": null,
       "bottom": null,
       "display": null,
       "flex": null,
       "flex_flow": null,
       "grid_area": null,
       "grid_auto_columns": null,
       "grid_auto_flow": null,
       "grid_auto_rows": null,
       "grid_column": null,
       "grid_gap": null,
       "grid_row": null,
       "grid_template_areas": null,
       "grid_template_columns": null,
       "grid_template_rows": null,
       "height": null,
       "justify_content": null,
       "justify_items": null,
       "left": null,
       "margin": null,
       "max_height": null,
       "max_width": null,
       "min_height": null,
       "min_width": null,
       "object_fit": null,
       "object_position": null,
       "order": null,
       "overflow": null,
       "overflow_x": null,
       "overflow_y": null,
       "padding": null,
       "right": null,
       "top": null,
       "visibility": null,
       "width": null
      }
     },
     "3e58c3e4acb04d26b56574059dd8a151": {
      "model_module": "@jupyter-widgets/controls",
      "model_module_version": "1.5.0",
      "model_name": "FloatProgressModel",
      "state": {
       "_dom_classes": [],
       "_model_module": "@jupyter-widgets/controls",
       "_model_module_version": "1.5.0",
       "_model_name": "FloatProgressModel",
       "_view_count": null,
       "_view_module": "@jupyter-widgets/controls",
       "_view_module_version": "1.5.0",
       "_view_name": "ProgressView",
       "bar_style": "success",
       "description": "",
       "description_tooltip": null,
       "layout": "IPY_MODEL_b2c024bc759e47c89cf33abb56c22c19",
       "max": 456318.0,
       "min": 0.0,
       "orientation": "horizontal",
       "style": "IPY_MODEL_00876e8d3f2c4b20997c160171c75d2d",
       "value": 456318.0
      }
     },
     "44a847cb521b4a3991e566301477242b": {
      "model_module": "@jupyter-widgets/base",
      "model_module_version": "1.2.0",
      "model_name": "LayoutModel",
      "state": {
       "_model_module": "@jupyter-widgets/base",
       "_model_module_version": "1.2.0",
       "_model_name": "LayoutModel",
       "_view_count": null,
       "_view_module": "@jupyter-widgets/base",
       "_view_module_version": "1.2.0",
       "_view_name": "LayoutView",
       "align_content": null,
       "align_items": null,
       "align_self": null,
       "border": null,
       "bottom": null,
       "display": null,
       "flex": null,
       "flex_flow": null,
       "grid_area": null,
       "grid_auto_columns": null,
       "grid_auto_flow": null,
       "grid_auto_rows": null,
       "grid_column": null,
       "grid_gap": null,
       "grid_row": null,
       "grid_template_areas": null,
       "grid_template_columns": null,
       "grid_template_rows": null,
       "height": null,
       "justify_content": null,
       "justify_items": null,
       "left": null,
       "margin": null,
       "max_height": null,
       "max_width": null,
       "min_height": null,
       "min_width": null,
       "object_fit": null,
       "object_position": null,
       "order": null,
       "overflow": null,
       "overflow_x": null,
       "overflow_y": null,
       "padding": null,
       "right": null,
       "top": null,
       "visibility": null,
       "width": null
      }
     },
     "4769a44a167647e98cf10de91f13ecfc": {
      "model_module": "@jupyter-widgets/controls",
      "model_module_version": "1.5.0",
      "model_name": "DescriptionStyleModel",
      "state": {
       "_model_module": "@jupyter-widgets/controls",
       "_model_module_version": "1.5.0",
       "_model_name": "DescriptionStyleModel",
       "_view_count": null,
       "_view_module": "@jupyter-widgets/base",
       "_view_module_version": "1.2.0",
       "_view_name": "StyleView",
       "description_width": ""
      }
     },
     "488560f85bfb4705910dc26656b3ae17": {
      "model_module": "@jupyter-widgets/controls",
      "model_module_version": "1.5.0",
      "model_name": "ProgressStyleModel",
      "state": {
       "_model_module": "@jupyter-widgets/controls",
       "_model_module_version": "1.5.0",
       "_model_name": "ProgressStyleModel",
       "_view_count": null,
       "_view_module": "@jupyter-widgets/base",
       "_view_module_version": "1.2.0",
       "_view_name": "StyleView",
       "bar_color": null,
       "description_width": ""
      }
     },
     "49d39403c1954e00bab6033cef302f7b": {
      "model_module": "@jupyter-widgets/base",
      "model_module_version": "1.2.0",
      "model_name": "LayoutModel",
      "state": {
       "_model_module": "@jupyter-widgets/base",
       "_model_module_version": "1.2.0",
       "_model_name": "LayoutModel",
       "_view_count": null,
       "_view_module": "@jupyter-widgets/base",
       "_view_module_version": "1.2.0",
       "_view_name": "LayoutView",
       "align_content": null,
       "align_items": null,
       "align_self": null,
       "border": null,
       "bottom": null,
       "display": null,
       "flex": null,
       "flex_flow": null,
       "grid_area": null,
       "grid_auto_columns": null,
       "grid_auto_flow": null,
       "grid_auto_rows": null,
       "grid_column": null,
       "grid_gap": null,
       "grid_row": null,
       "grid_template_areas": null,
       "grid_template_columns": null,
       "grid_template_rows": null,
       "height": null,
       "justify_content": null,
       "justify_items": null,
       "left": null,
       "margin": null,
       "max_height": null,
       "max_width": null,
       "min_height": null,
       "min_width": null,
       "object_fit": null,
       "object_position": null,
       "order": null,
       "overflow": null,
       "overflow_x": null,
       "overflow_y": null,
       "padding": null,
       "right": null,
       "top": null,
       "visibility": null,
       "width": null
      }
     },
     "4ea3d7ea9b0744dabe3f91559cb02db0": {
      "model_module": "@jupyter-widgets/controls",
      "model_module_version": "1.5.0",
      "model_name": "DescriptionStyleModel",
      "state": {
       "_model_module": "@jupyter-widgets/controls",
       "_model_module_version": "1.5.0",
       "_model_name": "DescriptionStyleModel",
       "_view_count": null,
       "_view_module": "@jupyter-widgets/base",
       "_view_module_version": "1.2.0",
       "_view_name": "StyleView",
       "description_width": ""
      }
     },
     "500d8f7426bf47b7a0930ca504f0bde0": {
      "model_module": "@jupyter-widgets/controls",
      "model_module_version": "1.5.0",
      "model_name": "HBoxModel",
      "state": {
       "_dom_classes": [],
       "_model_module": "@jupyter-widgets/controls",
       "_model_module_version": "1.5.0",
       "_model_name": "HBoxModel",
       "_view_count": null,
       "_view_module": "@jupyter-widgets/controls",
       "_view_module_version": "1.5.0",
       "_view_name": "HBoxView",
       "box_style": "",
       "children": [
        "IPY_MODEL_858a398b57c349bc998863200d7c7a2c",
        "IPY_MODEL_20fd16a5e2ad44209235eacd3244d7ee",
        "IPY_MODEL_ce31a031bfed42a4b341279f5d27fad7"
       ],
       "layout": "IPY_MODEL_1b47a09c3bc246a6ad1273cfe31fee56"
      }
     },
     "50212c237c89452382fe4299207ae201": {
      "model_module": "@jupyter-widgets/base",
      "model_module_version": "1.2.0",
      "model_name": "LayoutModel",
      "state": {
       "_model_module": "@jupyter-widgets/base",
       "_model_module_version": "1.2.0",
       "_model_name": "LayoutModel",
       "_view_count": null,
       "_view_module": "@jupyter-widgets/base",
       "_view_module_version": "1.2.0",
       "_view_name": "LayoutView",
       "align_content": null,
       "align_items": null,
       "align_self": null,
       "border": null,
       "bottom": null,
       "display": null,
       "flex": null,
       "flex_flow": null,
       "grid_area": null,
       "grid_auto_columns": null,
       "grid_auto_flow": null,
       "grid_auto_rows": null,
       "grid_column": null,
       "grid_gap": null,
       "grid_row": null,
       "grid_template_areas": null,
       "grid_template_columns": null,
       "grid_template_rows": null,
       "height": null,
       "justify_content": null,
       "justify_items": null,
       "left": null,
       "margin": null,
       "max_height": null,
       "max_width": null,
       "min_height": null,
       "min_width": null,
       "object_fit": null,
       "object_position": null,
       "order": null,
       "overflow": null,
       "overflow_x": null,
       "overflow_y": null,
       "padding": null,
       "right": null,
       "top": null,
       "visibility": null,
       "width": null
      }
     },
     "52bf2852b7e34bb09ea4636c7ed3e9cb": {
      "model_module": "@jupyter-widgets/base",
      "model_module_version": "1.2.0",
      "model_name": "LayoutModel",
      "state": {
       "_model_module": "@jupyter-widgets/base",
       "_model_module_version": "1.2.0",
       "_model_name": "LayoutModel",
       "_view_count": null,
       "_view_module": "@jupyter-widgets/base",
       "_view_module_version": "1.2.0",
       "_view_name": "LayoutView",
       "align_content": null,
       "align_items": null,
       "align_self": null,
       "border": null,
       "bottom": null,
       "display": null,
       "flex": null,
       "flex_flow": null,
       "grid_area": null,
       "grid_auto_columns": null,
       "grid_auto_flow": null,
       "grid_auto_rows": null,
       "grid_column": null,
       "grid_gap": null,
       "grid_row": null,
       "grid_template_areas": null,
       "grid_template_columns": null,
       "grid_template_rows": null,
       "height": null,
       "justify_content": null,
       "justify_items": null,
       "left": null,
       "margin": null,
       "max_height": null,
       "max_width": null,
       "min_height": null,
       "min_width": null,
       "object_fit": null,
       "object_position": null,
       "order": null,
       "overflow": null,
       "overflow_x": null,
       "overflow_y": null,
       "padding": null,
       "right": null,
       "top": null,
       "visibility": null,
       "width": null
      }
     },
     "5a038f618bd9452f99ac9a842afb90b3": {
      "model_module": "@jupyter-widgets/controls",
      "model_module_version": "1.5.0",
      "model_name": "HTMLModel",
      "state": {
       "_dom_classes": [],
       "_model_module": "@jupyter-widgets/controls",
       "_model_module_version": "1.5.0",
       "_model_name": "HTMLModel",
       "_view_count": null,
       "_view_module": "@jupyter-widgets/controls",
       "_view_module_version": "1.5.0",
       "_view_name": "HTMLView",
       "description": "",
       "description_tooltip": null,
       "layout": "IPY_MODEL_50212c237c89452382fe4299207ae201",
       "placeholder": "​",
       "style": "IPY_MODEL_4769a44a167647e98cf10de91f13ecfc",
       "value": " 239/239 [00:00&lt;00:00, 15.4kB/s]"
      }
     },
     "5fb565ee9835498c8568697a4b9b2aa8": {
      "model_module": "@jupyter-widgets/base",
      "model_module_version": "1.2.0",
      "model_name": "LayoutModel",
      "state": {
       "_model_module": "@jupyter-widgets/base",
       "_model_module_version": "1.2.0",
       "_model_name": "LayoutModel",
       "_view_count": null,
       "_view_module": "@jupyter-widgets/base",
       "_view_module_version": "1.2.0",
       "_view_name": "LayoutView",
       "align_content": null,
       "align_items": null,
       "align_self": null,
       "border": null,
       "bottom": null,
       "display": null,
       "flex": null,
       "flex_flow": null,
       "grid_area": null,
       "grid_auto_columns": null,
       "grid_auto_flow": null,
       "grid_auto_rows": null,
       "grid_column": null,
       "grid_gap": null,
       "grid_row": null,
       "grid_template_areas": null,
       "grid_template_columns": null,
       "grid_template_rows": null,
       "height": null,
       "justify_content": null,
       "justify_items": null,
       "left": null,
       "margin": null,
       "max_height": null,
       "max_width": null,
       "min_height": null,
       "min_width": null,
       "object_fit": null,
       "object_position": null,
       "order": null,
       "overflow": null,
       "overflow_x": null,
       "overflow_y": null,
       "padding": null,
       "right": null,
       "top": null,
       "visibility": null,
       "width": null
      }
     },
     "6301e48338a74016bec1032c0ef4b9e9": {
      "model_module": "@jupyter-widgets/controls",
      "model_module_version": "1.5.0",
      "model_name": "ProgressStyleModel",
      "state": {
       "_model_module": "@jupyter-widgets/controls",
       "_model_module_version": "1.5.0",
       "_model_name": "ProgressStyleModel",
       "_view_count": null,
       "_view_module": "@jupyter-widgets/base",
       "_view_module_version": "1.2.0",
       "_view_name": "StyleView",
       "bar_color": null,
       "description_width": ""
      }
     },
     "634ec62f663d47c0958a9d43db5aa1ac": {
      "model_module": "@jupyter-widgets/controls",
      "model_module_version": "1.5.0",
      "model_name": "FloatProgressModel",
      "state": {
       "_dom_classes": [],
       "_model_module": "@jupyter-widgets/controls",
       "_model_module_version": "1.5.0",
       "_model_name": "FloatProgressModel",
       "_view_count": null,
       "_view_module": "@jupyter-widgets/controls",
       "_view_module_version": "1.5.0",
       "_view_name": "ProgressView",
       "bar_style": "success",
       "description": "",
       "description_tooltip": null,
       "layout": "IPY_MODEL_0378334d102b440495c4410afaf5309e",
       "max": 30000.0,
       "min": 0.0,
       "orientation": "horizontal",
       "style": "IPY_MODEL_488560f85bfb4705910dc26656b3ae17",
       "value": 30000.0
      }
     },
     "66a45b8740234657938003157631cb7d": {
      "model_module": "@jupyter-widgets/base",
      "model_module_version": "1.2.0",
      "model_name": "LayoutModel",
      "state": {
       "_model_module": "@jupyter-widgets/base",
       "_model_module_version": "1.2.0",
       "_model_name": "LayoutModel",
       "_view_count": null,
       "_view_module": "@jupyter-widgets/base",
       "_view_module_version": "1.2.0",
       "_view_name": "LayoutView",
       "align_content": null,
       "align_items": null,
       "align_self": null,
       "border": null,
       "bottom": null,
       "display": null,
       "flex": null,
       "flex_flow": null,
       "grid_area": null,
       "grid_auto_columns": null,
       "grid_auto_flow": null,
       "grid_auto_rows": null,
       "grid_column": null,
       "grid_gap": null,
       "grid_row": null,
       "grid_template_areas": null,
       "grid_template_columns": null,
       "grid_template_rows": null,
       "height": null,
       "justify_content": null,
       "justify_items": null,
       "left": null,
       "margin": null,
       "max_height": null,
       "max_width": null,
       "min_height": null,
       "min_width": null,
       "object_fit": null,
       "object_position": null,
       "order": null,
       "overflow": null,
       "overflow_x": null,
       "overflow_y": null,
       "padding": null,
       "right": null,
       "top": null,
       "visibility": null,
       "width": null
      }
     },
     "66c19ac27972492fa49b8f83a3116be5": {
      "model_module": "@jupyter-widgets/base",
      "model_module_version": "1.2.0",
      "model_name": "LayoutModel",
      "state": {
       "_model_module": "@jupyter-widgets/base",
       "_model_module_version": "1.2.0",
       "_model_name": "LayoutModel",
       "_view_count": null,
       "_view_module": "@jupyter-widgets/base",
       "_view_module_version": "1.2.0",
       "_view_name": "LayoutView",
       "align_content": null,
       "align_items": null,
       "align_self": null,
       "border": null,
       "bottom": null,
       "display": null,
       "flex": null,
       "flex_flow": null,
       "grid_area": null,
       "grid_auto_columns": null,
       "grid_auto_flow": null,
       "grid_auto_rows": null,
       "grid_column": null,
       "grid_gap": null,
       "grid_row": null,
       "grid_template_areas": null,
       "grid_template_columns": null,
       "grid_template_rows": null,
       "height": null,
       "justify_content": null,
       "justify_items": null,
       "left": null,
       "margin": null,
       "max_height": null,
       "max_width": null,
       "min_height": null,
       "min_width": null,
       "object_fit": null,
       "object_position": null,
       "order": null,
       "overflow": null,
       "overflow_x": null,
       "overflow_y": null,
       "padding": null,
       "right": null,
       "top": null,
       "visibility": null,
       "width": null
      }
     },
     "671371ec75e04ba7995d28ae361178dc": {
      "model_module": "@jupyter-widgets/controls",
      "model_module_version": "1.5.0",
      "model_name": "DescriptionStyleModel",
      "state": {
       "_model_module": "@jupyter-widgets/controls",
       "_model_module_version": "1.5.0",
       "_model_name": "DescriptionStyleModel",
       "_view_count": null,
       "_view_module": "@jupyter-widgets/base",
       "_view_module_version": "1.2.0",
       "_view_name": "StyleView",
       "description_width": ""
      }
     },
     "6879c6451e944a8c9bb56c27eabb179b": {
      "model_module": "@jupyter-widgets/controls",
      "model_module_version": "1.5.0",
      "model_name": "HBoxModel",
      "state": {
       "_dom_classes": [],
       "_model_module": "@jupyter-widgets/controls",
       "_model_module_version": "1.5.0",
       "_model_name": "HBoxModel",
       "_view_count": null,
       "_view_module": "@jupyter-widgets/controls",
       "_view_module_version": "1.5.0",
       "_view_name": "HBoxView",
       "box_style": "",
       "children": [
        "IPY_MODEL_9a86e26de1db415f804f9d904f71a92b",
        "IPY_MODEL_71e53f06e64049f290f4eac081a707b3",
        "IPY_MODEL_5a038f618bd9452f99ac9a842afb90b3"
       ],
       "layout": "IPY_MODEL_09bd64a4827a4137a6e9e18d5cb2d0c0"
      }
     },
     "6b770191afba4e8da6e9c417c13661a0": {
      "model_module": "@jupyter-widgets/controls",
      "model_module_version": "1.5.0",
      "model_name": "FloatProgressModel",
      "state": {
       "_dom_classes": [],
       "_model_module": "@jupyter-widgets/controls",
       "_model_module_version": "1.5.0",
       "_model_name": "FloatProgressModel",
       "_view_count": null,
       "_view_module": "@jupyter-widgets/controls",
       "_view_module_version": "1.5.0",
       "_view_name": "ProgressView",
       "bar_style": "success",
       "description": "",
       "description_tooltip": null,
       "layout": "IPY_MODEL_1efa007235a14a1ab97f3670a2b685b6",
       "max": 929.0,
       "min": 0.0,
       "orientation": "horizontal",
       "style": "IPY_MODEL_6301e48338a74016bec1032c0ef4b9e9",
       "value": 929.0
      }
     },
     "713b3b4cbe734933b8b004f0c9cbf2b9": {
      "model_module": "@jupyter-widgets/controls",
      "model_module_version": "1.5.0",
      "model_name": "HTMLModel",
      "state": {
       "_dom_classes": [],
       "_model_module": "@jupyter-widgets/controls",
       "_model_module_version": "1.5.0",
       "_model_name": "HTMLModel",
       "_view_count": null,
       "_view_module": "@jupyter-widgets/controls",
       "_view_module_version": "1.5.0",
       "_view_name": "HTMLView",
       "description": "",
       "description_tooltip": null,
       "layout": "IPY_MODEL_66a45b8740234657938003157631cb7d",
       "placeholder": "​",
       "style": "IPY_MODEL_b66bf88ee6984d8482c81c33192556a8",
       "value": "100%"
      }
     },
     "71e53f06e64049f290f4eac081a707b3": {
      "model_module": "@jupyter-widgets/controls",
      "model_module_version": "1.5.0",
      "model_name": "FloatProgressModel",
      "state": {
       "_dom_classes": [],
       "_model_module": "@jupyter-widgets/controls",
       "_model_module_version": "1.5.0",
       "_model_name": "FloatProgressModel",
       "_view_count": null,
       "_view_module": "@jupyter-widgets/controls",
       "_view_module_version": "1.5.0",
       "_view_name": "ProgressView",
       "bar_style": "success",
       "description": "",
       "description_tooltip": null,
       "layout": "IPY_MODEL_ea58b56804504d6497c2e3fb1ecad363",
       "max": 239.0,
       "min": 0.0,
       "orientation": "horizontal",
       "style": "IPY_MODEL_e49a27013d24407b8b616a360510c99f",
       "value": 239.0
      }
     },
     "79d5c13c14e24743abdd566df2e67306": {
      "model_module": "@jupyter-widgets/base",
      "model_module_version": "1.2.0",
      "model_name": "LayoutModel",
      "state": {
       "_model_module": "@jupyter-widgets/base",
       "_model_module_version": "1.2.0",
       "_model_name": "LayoutModel",
       "_view_count": null,
       "_view_module": "@jupyter-widgets/base",
       "_view_module_version": "1.2.0",
       "_view_name": "LayoutView",
       "align_content": null,
       "align_items": null,
       "align_self": null,
       "border": null,
       "bottom": null,
       "display": null,
       "flex": null,
       "flex_flow": null,
       "grid_area": null,
       "grid_auto_columns": null,
       "grid_auto_flow": null,
       "grid_auto_rows": null,
       "grid_column": null,
       "grid_gap": null,
       "grid_row": null,
       "grid_template_areas": null,
       "grid_template_columns": null,
       "grid_template_rows": null,
       "height": null,
       "justify_content": null,
       "justify_items": null,
       "left": null,
       "margin": null,
       "max_height": null,
       "max_width": null,
       "min_height": null,
       "min_width": null,
       "object_fit": null,
       "object_position": null,
       "order": null,
       "overflow": null,
       "overflow_x": null,
       "overflow_y": null,
       "padding": null,
       "right": null,
       "top": null,
       "visibility": null,
       "width": null
      }
     },
     "858a398b57c349bc998863200d7c7a2c": {
      "model_module": "@jupyter-widgets/controls",
      "model_module_version": "1.5.0",
      "model_name": "HTMLModel",
      "state": {
       "_dom_classes": [],
       "_model_module": "@jupyter-widgets/controls",
       "_model_module_version": "1.5.0",
       "_model_name": "HTMLModel",
       "_view_count": null,
       "_view_module": "@jupyter-widgets/controls",
       "_view_module_version": "1.5.0",
       "_view_name": "HTMLView",
       "description": "",
       "description_tooltip": null,
       "layout": "IPY_MODEL_3e0f540ca6d54d028df1f8639e30ab67",
       "placeholder": "​",
       "style": "IPY_MODEL_e6c9db33250e46b498ca56f49d0f2722",
       "value": "100%"
      }
     },
     "8a71159220e1408d86b9c2710f43ad2f": {
      "model_module": "@jupyter-widgets/base",
      "model_module_version": "1.2.0",
      "model_name": "LayoutModel",
      "state": {
       "_model_module": "@jupyter-widgets/base",
       "_model_module_version": "1.2.0",
       "_model_name": "LayoutModel",
       "_view_count": null,
       "_view_module": "@jupyter-widgets/base",
       "_view_module_version": "1.2.0",
       "_view_name": "LayoutView",
       "align_content": null,
       "align_items": null,
       "align_self": null,
       "border": null,
       "bottom": null,
       "display": null,
       "flex": null,
       "flex_flow": null,
       "grid_area": null,
       "grid_auto_columns": null,
       "grid_auto_flow": null,
       "grid_auto_rows": null,
       "grid_column": null,
       "grid_gap": null,
       "grid_row": null,
       "grid_template_areas": null,
       "grid_template_columns": null,
       "grid_template_rows": null,
       "height": null,
       "justify_content": null,
       "justify_items": null,
       "left": null,
       "margin": null,
       "max_height": null,
       "max_width": null,
       "min_height": null,
       "min_width": null,
       "object_fit": null,
       "object_position": null,
       "order": null,
       "overflow": null,
       "overflow_x": null,
       "overflow_y": null,
       "padding": null,
       "right": null,
       "top": null,
       "visibility": null,
       "width": null
      }
     },
     "8afd80cee3fb4240b07a9f07362b0dbd": {
      "model_module": "@jupyter-widgets/base",
      "model_module_version": "1.2.0",
      "model_name": "LayoutModel",
      "state": {
       "_model_module": "@jupyter-widgets/base",
       "_model_module_version": "1.2.0",
       "_model_name": "LayoutModel",
       "_view_count": null,
       "_view_module": "@jupyter-widgets/base",
       "_view_module_version": "1.2.0",
       "_view_name": "LayoutView",
       "align_content": null,
       "align_items": null,
       "align_self": null,
       "border": null,
       "bottom": null,
       "display": null,
       "flex": null,
       "flex_flow": null,
       "grid_area": null,
       "grid_auto_columns": null,
       "grid_auto_flow": null,
       "grid_auto_rows": null,
       "grid_column": null,
       "grid_gap": null,
       "grid_row": null,
       "grid_template_areas": null,
       "grid_template_columns": null,
       "grid_template_rows": null,
       "height": null,
       "justify_content": null,
       "justify_items": null,
       "left": null,
       "margin": null,
       "max_height": null,
       "max_width": null,
       "min_height": null,
       "min_width": null,
       "object_fit": null,
       "object_position": null,
       "order": null,
       "overflow": null,
       "overflow_x": null,
       "overflow_y": null,
       "padding": null,
       "right": null,
       "top": null,
       "visibility": null,
       "width": null
      }
     },
     "8ce3cccf18a941c8b251eb7577033a37": {
      "model_module": "@jupyter-widgets/controls",
      "model_module_version": "1.5.0",
      "model_name": "DescriptionStyleModel",
      "state": {
       "_model_module": "@jupyter-widgets/controls",
       "_model_module_version": "1.5.0",
       "_model_name": "DescriptionStyleModel",
       "_view_count": null,
       "_view_module": "@jupyter-widgets/base",
       "_view_module_version": "1.2.0",
       "_view_name": "StyleView",
       "description_width": ""
      }
     },
     "8f5d769912d2451b949e8608a1850296": {
      "model_module": "@jupyter-widgets/controls",
      "model_module_version": "1.5.0",
      "model_name": "HBoxModel",
      "state": {
       "_dom_classes": [],
       "_model_module": "@jupyter-widgets/controls",
       "_model_module_version": "1.5.0",
       "_model_name": "HBoxModel",
       "_view_count": null,
       "_view_module": "@jupyter-widgets/controls",
       "_view_module_version": "1.5.0",
       "_view_name": "HBoxView",
       "box_style": "",
       "children": [
        "IPY_MODEL_b7db5a2e51ab407e9fe99d0835f7d052",
        "IPY_MODEL_3e58c3e4acb04d26b56574059dd8a151",
        "IPY_MODEL_9185607ee7114765be6b0a7847fd317a"
       ],
       "layout": "IPY_MODEL_21958f6243bd4f6e8151eb56f76757b6"
      }
     },
     "9185607ee7114765be6b0a7847fd317a": {
      "model_module": "@jupyter-widgets/controls",
      "model_module_version": "1.5.0",
      "model_name": "HTMLModel",
      "state": {
       "_dom_classes": [],
       "_model_module": "@jupyter-widgets/controls",
       "_model_module_version": "1.5.0",
       "_model_name": "HTMLModel",
       "_view_count": null,
       "_view_module": "@jupyter-widgets/controls",
       "_view_module_version": "1.5.0",
       "_view_name": "HTMLView",
       "description": "",
       "description_tooltip": null,
       "layout": "IPY_MODEL_1a286bdfb77a4b51af3138ea1732c55f",
       "placeholder": "​",
       "style": "IPY_MODEL_c7ab96bd2abf43ac9335830faaac6a9b",
       "value": " 456k/456k [00:07&lt;00:00, 63.7kB/s]"
      }
     },
     "938081d9670742e088c12f79f84c35b9": {
      "model_module": "@jupyter-widgets/controls",
      "model_module_version": "1.5.0",
      "model_name": "FloatProgressModel",
      "state": {
       "_dom_classes": [],
       "_model_module": "@jupyter-widgets/controls",
       "_model_module_version": "1.5.0",
       "_model_name": "FloatProgressModel",
       "_view_count": null,
       "_view_module": "@jupyter-widgets/controls",
       "_view_module_version": "1.5.0",
       "_view_name": "ProgressView",
       "bar_style": "success",
       "description": "",
       "description_tooltip": null,
       "layout": "IPY_MODEL_8a71159220e1408d86b9c2710f43ad2f",
       "max": 898822.0,
       "min": 0.0,
       "orientation": "horizontal",
       "style": "IPY_MODEL_26dddf5c904c4a358c62a58eb52cc0f3",
       "value": 898822.0
      }
     },
     "9385d190796f48f8802263bdca5c2dba": {
      "model_module": "@jupyter-widgets/controls",
      "model_module_version": "1.5.0",
      "model_name": "HTMLModel",
      "state": {
       "_dom_classes": [],
       "_model_module": "@jupyter-widgets/controls",
       "_model_module_version": "1.5.0",
       "_model_name": "HTMLModel",
       "_view_count": null,
       "_view_module": "@jupyter-widgets/controls",
       "_view_module_version": "1.5.0",
       "_view_name": "HTMLView",
       "description": "",
       "description_tooltip": null,
       "layout": "IPY_MODEL_5fb565ee9835498c8568697a4b9b2aa8",
       "placeholder": "​",
       "style": "IPY_MODEL_058ec41464dd42baadb783148f9900c2",
       "value": "config.json: 100%"
      }
     },
     "97da452ff14e4ec2ac3229384b1a9967": {
      "model_module": "@jupyter-widgets/base",
      "model_module_version": "1.2.0",
      "model_name": "LayoutModel",
      "state": {
       "_model_module": "@jupyter-widgets/base",
       "_model_module_version": "1.2.0",
       "_model_name": "LayoutModel",
       "_view_count": null,
       "_view_module": "@jupyter-widgets/base",
       "_view_module_version": "1.2.0",
       "_view_name": "LayoutView",
       "align_content": null,
       "align_items": null,
       "align_self": null,
       "border": null,
       "bottom": null,
       "display": null,
       "flex": null,
       "flex_flow": null,
       "grid_area": null,
       "grid_auto_columns": null,
       "grid_auto_flow": null,
       "grid_auto_rows": null,
       "grid_column": null,
       "grid_gap": null,
       "grid_row": null,
       "grid_template_areas": null,
       "grid_template_columns": null,
       "grid_template_rows": null,
       "height": null,
       "justify_content": null,
       "justify_items": null,
       "left": null,
       "margin": null,
       "max_height": null,
       "max_width": null,
       "min_height": null,
       "min_width": null,
       "object_fit": null,
       "object_position": null,
       "order": null,
       "overflow": null,
       "overflow_x": null,
       "overflow_y": null,
       "padding": null,
       "right": null,
       "top": null,
       "visibility": null,
       "width": null
      }
     },
     "9a86e26de1db415f804f9d904f71a92b": {
      "model_module": "@jupyter-widgets/controls",
      "model_module_version": "1.5.0",
      "model_name": "HTMLModel",
      "state": {
       "_dom_classes": [],
       "_model_module": "@jupyter-widgets/controls",
       "_model_module_version": "1.5.0",
       "_model_name": "HTMLModel",
       "_view_count": null,
       "_view_module": "@jupyter-widgets/controls",
       "_view_module_version": "1.5.0",
       "_view_name": "HTMLView",
       "description": "",
       "description_tooltip": null,
       "layout": "IPY_MODEL_52bf2852b7e34bb09ea4636c7ed3e9cb",
       "placeholder": "​",
       "style": "IPY_MODEL_18a99fd621f54c34b1cc820391d34540",
       "value": "special_tokens_map.json: 100%"
      }
     },
     "9aeab90fd89f45d7969f850ecb0eeae6": {
      "model_module": "@jupyter-widgets/base",
      "model_module_version": "1.2.0",
      "model_name": "LayoutModel",
      "state": {
       "_model_module": "@jupyter-widgets/base",
       "_model_module_version": "1.2.0",
       "_model_name": "LayoutModel",
       "_view_count": null,
       "_view_module": "@jupyter-widgets/base",
       "_view_module_version": "1.2.0",
       "_view_name": "LayoutView",
       "align_content": null,
       "align_items": null,
       "align_self": null,
       "border": null,
       "bottom": null,
       "display": null,
       "flex": null,
       "flex_flow": null,
       "grid_area": null,
       "grid_auto_columns": null,
       "grid_auto_flow": null,
       "grid_auto_rows": null,
       "grid_column": null,
       "grid_gap": null,
       "grid_row": null,
       "grid_template_areas": null,
       "grid_template_columns": null,
       "grid_template_rows": null,
       "height": null,
       "justify_content": null,
       "justify_items": null,
       "left": null,
       "margin": null,
       "max_height": null,
       "max_width": null,
       "min_height": null,
       "min_width": null,
       "object_fit": null,
       "object_position": null,
       "order": null,
       "overflow": null,
       "overflow_x": null,
       "overflow_y": null,
       "padding": null,
       "right": null,
       "top": null,
       "visibility": null,
       "width": null
      }
     },
     "a749bdb70c04455086990509d7663c45": {
      "model_module": "@jupyter-widgets/controls",
      "model_module_version": "1.5.0",
      "model_name": "HTMLModel",
      "state": {
       "_dom_classes": [],
       "_model_module": "@jupyter-widgets/controls",
       "_model_module_version": "1.5.0",
       "_model_name": "HTMLModel",
       "_view_count": null,
       "_view_module": "@jupyter-widgets/controls",
       "_view_module_version": "1.5.0",
       "_view_name": "HTMLView",
       "description": "",
       "description_tooltip": null,
       "layout": "IPY_MODEL_29fc43de7ea44569a93cb9497a837936",
       "placeholder": "​",
       "style": "IPY_MODEL_ddc240164f314f87b433bd43ad13d9c6",
       "value": " 501M/501M [00:29&lt;00:00, 19.8MB/s]"
      }
     },
     "aa9421d6c60744b1a80ffdff7021e6c1": {
      "model_module": "@jupyter-widgets/controls",
      "model_module_version": "1.5.0",
      "model_name": "HTMLModel",
      "state": {
       "_dom_classes": [],
       "_model_module": "@jupyter-widgets/controls",
       "_model_module_version": "1.5.0",
       "_model_name": "HTMLModel",
       "_view_count": null,
       "_view_module": "@jupyter-widgets/controls",
       "_view_module_version": "1.5.0",
       "_view_name": "HTMLView",
       "description": "",
       "description_tooltip": null,
       "layout": "IPY_MODEL_66c19ac27972492fa49b8f83a3116be5",
       "placeholder": "​",
       "style": "IPY_MODEL_2f328ee036bf45bebf88d59817e6a429",
       "value": " 899k/899k [00:12&lt;00:00, 71.5kB/s]"
      }
     },
     "ac1b69c2593f422595020939f1ed4133": {
      "model_module": "@jupyter-widgets/base",
      "model_module_version": "1.2.0",
      "model_name": "LayoutModel",
      "state": {
       "_model_module": "@jupyter-widgets/base",
       "_model_module_version": "1.2.0",
       "_model_name": "LayoutModel",
       "_view_count": null,
       "_view_module": "@jupyter-widgets/base",
       "_view_module_version": "1.2.0",
       "_view_name": "LayoutView",
       "align_content": null,
       "align_items": null,
       "align_self": null,
       "border": null,
       "bottom": null,
       "display": null,
       "flex": null,
       "flex_flow": null,
       "grid_area": null,
       "grid_auto_columns": null,
       "grid_auto_flow": null,
       "grid_auto_rows": null,
       "grid_column": null,
       "grid_gap": null,
       "grid_row": null,
       "grid_template_areas": null,
       "grid_template_columns": null,
       "grid_template_rows": null,
       "height": null,
       "justify_content": null,
       "justify_items": null,
       "left": null,
       "margin": null,
       "max_height": null,
       "max_width": null,
       "min_height": null,
       "min_width": null,
       "object_fit": null,
       "object_position": null,
       "order": null,
       "overflow": null,
       "overflow_x": null,
       "overflow_y": null,
       "padding": null,
       "right": null,
       "top": null,
       "visibility": null,
       "width": null
      }
     },
     "b2c024bc759e47c89cf33abb56c22c19": {
      "model_module": "@jupyter-widgets/base",
      "model_module_version": "1.2.0",
      "model_name": "LayoutModel",
      "state": {
       "_model_module": "@jupyter-widgets/base",
       "_model_module_version": "1.2.0",
       "_model_name": "LayoutModel",
       "_view_count": null,
       "_view_module": "@jupyter-widgets/base",
       "_view_module_version": "1.2.0",
       "_view_name": "LayoutView",
       "align_content": null,
       "align_items": null,
       "align_self": null,
       "border": null,
       "bottom": null,
       "display": null,
       "flex": null,
       "flex_flow": null,
       "grid_area": null,
       "grid_auto_columns": null,
       "grid_auto_flow": null,
       "grid_auto_rows": null,
       "grid_column": null,
       "grid_gap": null,
       "grid_row": null,
       "grid_template_areas": null,
       "grid_template_columns": null,
       "grid_template_rows": null,
       "height": null,
       "justify_content": null,
       "justify_items": null,
       "left": null,
       "margin": null,
       "max_height": null,
       "max_width": null,
       "min_height": null,
       "min_width": null,
       "object_fit": null,
       "object_position": null,
       "order": null,
       "overflow": null,
       "overflow_x": null,
       "overflow_y": null,
       "padding": null,
       "right": null,
       "top": null,
       "visibility": null,
       "width": null
      }
     },
     "b361b18c16df41c09db8a0550b851487": {
      "model_module": "@jupyter-widgets/controls",
      "model_module_version": "1.5.0",
      "model_name": "HTMLModel",
      "state": {
       "_dom_classes": [],
       "_model_module": "@jupyter-widgets/controls",
       "_model_module_version": "1.5.0",
       "_model_name": "HTMLModel",
       "_view_count": null,
       "_view_module": "@jupyter-widgets/controls",
       "_view_module_version": "1.5.0",
       "_view_name": "HTMLView",
       "description": "",
       "description_tooltip": null,
       "layout": "IPY_MODEL_d204bf12888e4ea993e12fa963001342",
       "placeholder": "​",
       "style": "IPY_MODEL_28e08833f74a4b35bdf6164c58ad53de",
       "value": "pytorch_model.bin: 100%"
      }
     },
     "b66bf88ee6984d8482c81c33192556a8": {
      "model_module": "@jupyter-widgets/controls",
      "model_module_version": "1.5.0",
      "model_name": "DescriptionStyleModel",
      "state": {
       "_model_module": "@jupyter-widgets/controls",
       "_model_module_version": "1.5.0",
       "_model_name": "DescriptionStyleModel",
       "_view_count": null,
       "_view_module": "@jupyter-widgets/base",
       "_view_module_version": "1.2.0",
       "_view_name": "StyleView",
       "description_width": ""
      }
     },
     "b7db5a2e51ab407e9fe99d0835f7d052": {
      "model_module": "@jupyter-widgets/controls",
      "model_module_version": "1.5.0",
      "model_name": "HTMLModel",
      "state": {
       "_dom_classes": [],
       "_model_module": "@jupyter-widgets/controls",
       "_model_module_version": "1.5.0",
       "_model_name": "HTMLModel",
       "_view_count": null,
       "_view_module": "@jupyter-widgets/controls",
       "_view_module_version": "1.5.0",
       "_view_name": "HTMLView",
       "description": "",
       "description_tooltip": null,
       "layout": "IPY_MODEL_8afd80cee3fb4240b07a9f07362b0dbd",
       "placeholder": "​",
       "style": "IPY_MODEL_310d54b1140246ae8bcd6f56eeb20462",
       "value": "merges.txt: 100%"
      }
     },
     "bf75bb617b554d24a94a5abc79c5f555": {
      "model_module": "@jupyter-widgets/base",
      "model_module_version": "1.2.0",
      "model_name": "LayoutModel",
      "state": {
       "_model_module": "@jupyter-widgets/base",
       "_model_module_version": "1.2.0",
       "_model_name": "LayoutModel",
       "_view_count": null,
       "_view_module": "@jupyter-widgets/base",
       "_view_module_version": "1.2.0",
       "_view_name": "LayoutView",
       "align_content": null,
       "align_items": null,
       "align_self": null,
       "border": null,
       "bottom": null,
       "display": null,
       "flex": null,
       "flex_flow": null,
       "grid_area": null,
       "grid_auto_columns": null,
       "grid_auto_flow": null,
       "grid_auto_rows": null,
       "grid_column": null,
       "grid_gap": null,
       "grid_row": null,
       "grid_template_areas": null,
       "grid_template_columns": null,
       "grid_template_rows": null,
       "height": null,
       "justify_content": null,
       "justify_items": null,
       "left": null,
       "margin": null,
       "max_height": null,
       "max_width": null,
       "min_height": null,
       "min_width": null,
       "object_fit": null,
       "object_position": null,
       "order": null,
       "overflow": null,
       "overflow_x": null,
       "overflow_y": null,
       "padding": null,
       "right": null,
       "top": null,
       "visibility": null,
       "width": null
      }
     },
     "c5cf1f49aeb54363baac72d2b1e71311": {
      "model_module": "@jupyter-widgets/controls",
      "model_module_version": "1.5.0",
      "model_name": "HTMLModel",
      "state": {
       "_dom_classes": [],
       "_model_module": "@jupyter-widgets/controls",
       "_model_module_version": "1.5.0",
       "_model_name": "HTMLModel",
       "_view_count": null,
       "_view_module": "@jupyter-widgets/controls",
       "_view_module_version": "1.5.0",
       "_view_name": "HTMLView",
       "description": "",
       "description_tooltip": null,
       "layout": "IPY_MODEL_f86194661e7647cb82a04d6421ebc1c8",
       "placeholder": "​",
       "style": "IPY_MODEL_1583f9b1ae924d5bb6e6012c82039bb4",
       "value": " 500/500 [00:00&lt;00:00, 1737.34it/s]"
      }
     },
     "c7ab96bd2abf43ac9335830faaac6a9b": {
      "model_module": "@jupyter-widgets/controls",
      "model_module_version": "1.5.0",
      "model_name": "DescriptionStyleModel",
      "state": {
       "_model_module": "@jupyter-widgets/controls",
       "_model_module_version": "1.5.0",
       "_model_name": "DescriptionStyleModel",
       "_view_count": null,
       "_view_module": "@jupyter-widgets/base",
       "_view_module_version": "1.2.0",
       "_view_name": "StyleView",
       "description_width": ""
      }
     },
     "c7bfe7d350f4418c93310229f2dd7b6d": {
      "model_module": "@jupyter-widgets/controls",
      "model_module_version": "1.5.0",
      "model_name": "ProgressStyleModel",
      "state": {
       "_model_module": "@jupyter-widgets/controls",
       "_model_module_version": "1.5.0",
       "_model_name": "ProgressStyleModel",
       "_view_count": null,
       "_view_module": "@jupyter-widgets/base",
       "_view_module_version": "1.2.0",
       "_view_name": "StyleView",
       "bar_color": null,
       "description_width": ""
      }
     },
     "ce31a031bfed42a4b341279f5d27fad7": {
      "model_module": "@jupyter-widgets/controls",
      "model_module_version": "1.5.0",
      "model_name": "HTMLModel",
      "state": {
       "_dom_classes": [],
       "_model_module": "@jupyter-widgets/controls",
       "_model_module_version": "1.5.0",
       "_model_name": "HTMLModel",
       "_view_count": null,
       "_view_module": "@jupyter-widgets/controls",
       "_view_module_version": "1.5.0",
       "_view_name": "HTMLView",
       "description": "",
       "description_tooltip": null,
       "layout": "IPY_MODEL_dbd3cc7b69254298ad3c6faed8a06943",
       "placeholder": "​",
       "style": "IPY_MODEL_cf1b1c8c20fa4c8abeceabbfcb2ee38f",
       "value": " 500/500 [00:52&lt;00:00,  9.54it/s]"
      }
     },
     "cf1b1c8c20fa4c8abeceabbfcb2ee38f": {
      "model_module": "@jupyter-widgets/controls",
      "model_module_version": "1.5.0",
      "model_name": "DescriptionStyleModel",
      "state": {
       "_model_module": "@jupyter-widgets/controls",
       "_model_module_version": "1.5.0",
       "_model_name": "DescriptionStyleModel",
       "_view_count": null,
       "_view_module": "@jupyter-widgets/base",
       "_view_module_version": "1.2.0",
       "_view_name": "StyleView",
       "description_width": ""
      }
     },
     "d0ec70056fcd49be977f2057888b85e8": {
      "model_module": "@jupyter-widgets/base",
      "model_module_version": "1.2.0",
      "model_name": "LayoutModel",
      "state": {
       "_model_module": "@jupyter-widgets/base",
       "_model_module_version": "1.2.0",
       "_model_name": "LayoutModel",
       "_view_count": null,
       "_view_module": "@jupyter-widgets/base",
       "_view_module_version": "1.2.0",
       "_view_name": "LayoutView",
       "align_content": null,
       "align_items": null,
       "align_self": null,
       "border": null,
       "bottom": null,
       "display": null,
       "flex": null,
       "flex_flow": null,
       "grid_area": null,
       "grid_auto_columns": null,
       "grid_auto_flow": null,
       "grid_auto_rows": null,
       "grid_column": null,
       "grid_gap": null,
       "grid_row": null,
       "grid_template_areas": null,
       "grid_template_columns": null,
       "grid_template_rows": null,
       "height": null,
       "justify_content": null,
       "justify_items": null,
       "left": null,
       "margin": null,
       "max_height": null,
       "max_width": null,
       "min_height": null,
       "min_width": null,
       "object_fit": null,
       "object_position": null,
       "order": null,
       "overflow": null,
       "overflow_x": null,
       "overflow_y": null,
       "padding": null,
       "right": null,
       "top": null,
       "visibility": null,
       "width": null
      }
     },
     "d1d01c8cc13c4526804b58ef95a13a2b": {
      "model_module": "@jupyter-widgets/base",
      "model_module_version": "1.2.0",
      "model_name": "LayoutModel",
      "state": {
       "_model_module": "@jupyter-widgets/base",
       "_model_module_version": "1.2.0",
       "_model_name": "LayoutModel",
       "_view_count": null,
       "_view_module": "@jupyter-widgets/base",
       "_view_module_version": "1.2.0",
       "_view_name": "LayoutView",
       "align_content": null,
       "align_items": null,
       "align_self": null,
       "border": null,
       "bottom": null,
       "display": null,
       "flex": null,
       "flex_flow": null,
       "grid_area": null,
       "grid_auto_columns": null,
       "grid_auto_flow": null,
       "grid_auto_rows": null,
       "grid_column": null,
       "grid_gap": null,
       "grid_row": null,
       "grid_template_areas": null,
       "grid_template_columns": null,
       "grid_template_rows": null,
       "height": null,
       "justify_content": null,
       "justify_items": null,
       "left": null,
       "margin": null,
       "max_height": null,
       "max_width": null,
       "min_height": null,
       "min_width": null,
       "object_fit": null,
       "object_position": null,
       "order": null,
       "overflow": null,
       "overflow_x": null,
       "overflow_y": null,
       "padding": null,
       "right": null,
       "top": null,
       "visibility": null,
       "width": null
      }
     },
     "d204bf12888e4ea993e12fa963001342": {
      "model_module": "@jupyter-widgets/base",
      "model_module_version": "1.2.0",
      "model_name": "LayoutModel",
      "state": {
       "_model_module": "@jupyter-widgets/base",
       "_model_module_version": "1.2.0",
       "_model_name": "LayoutModel",
       "_view_count": null,
       "_view_module": "@jupyter-widgets/base",
       "_view_module_version": "1.2.0",
       "_view_name": "LayoutView",
       "align_content": null,
       "align_items": null,
       "align_self": null,
       "border": null,
       "bottom": null,
       "display": null,
       "flex": null,
       "flex_flow": null,
       "grid_area": null,
       "grid_auto_columns": null,
       "grid_auto_flow": null,
       "grid_auto_rows": null,
       "grid_column": null,
       "grid_gap": null,
       "grid_row": null,
       "grid_template_areas": null,
       "grid_template_columns": null,
       "grid_template_rows": null,
       "height": null,
       "justify_content": null,
       "justify_items": null,
       "left": null,
       "margin": null,
       "max_height": null,
       "max_width": null,
       "min_height": null,
       "min_width": null,
       "object_fit": null,
       "object_position": null,
       "order": null,
       "overflow": null,
       "overflow_x": null,
       "overflow_y": null,
       "padding": null,
       "right": null,
       "top": null,
       "visibility": null,
       "width": null
      }
     },
     "d32ba89814dd42319974c5db7eec6a2a": {
      "model_module": "@jupyter-widgets/controls",
      "model_module_version": "1.5.0",
      "model_name": "HBoxModel",
      "state": {
       "_dom_classes": [],
       "_model_module": "@jupyter-widgets/controls",
       "_model_module_version": "1.5.0",
       "_model_name": "HBoxModel",
       "_view_count": null,
       "_view_module": "@jupyter-widgets/controls",
       "_view_module_version": "1.5.0",
       "_view_name": "HBoxView",
       "box_style": "",
       "children": [
        "IPY_MODEL_713b3b4cbe734933b8b004f0c9cbf2b9",
        "IPY_MODEL_634ec62f663d47c0958a9d43db5aa1ac",
        "IPY_MODEL_00dd1d3d24e540a9aad74c68e69a9228"
       ],
       "layout": "IPY_MODEL_49d39403c1954e00bab6033cef302f7b"
      }
     },
     "d47a40f298f14df7b19b89b41cf47b28": {
      "model_module": "@jupyter-widgets/controls",
      "model_module_version": "1.5.0",
      "model_name": "FloatProgressModel",
      "state": {
       "_dom_classes": [],
       "_model_module": "@jupyter-widgets/controls",
       "_model_module_version": "1.5.0",
       "_model_name": "FloatProgressModel",
       "_view_count": null,
       "_view_module": "@jupyter-widgets/controls",
       "_view_module_version": "1.5.0",
       "_view_name": "ProgressView",
       "bar_style": "success",
       "description": "",
       "description_tooltip": null,
       "layout": "IPY_MODEL_97da452ff14e4ec2ac3229384b1a9967",
       "max": 501045531.0,
       "min": 0.0,
       "orientation": "horizontal",
       "style": "IPY_MODEL_f3a8b82ef2a441a7af6ee1e7730c56e4",
       "value": 501045531.0
      }
     },
     "d7e481c79db54dbca2855fdcec9bd36f": {
      "model_module": "@jupyter-widgets/controls",
      "model_module_version": "1.5.0",
      "model_name": "FloatProgressModel",
      "state": {
       "_dom_classes": [],
       "_model_module": "@jupyter-widgets/controls",
       "_model_module_version": "1.5.0",
       "_model_name": "FloatProgressModel",
       "_view_count": null,
       "_view_module": "@jupyter-widgets/controls",
       "_view_module_version": "1.5.0",
       "_view_name": "ProgressView",
       "bar_style": "success",
       "description": "",
       "description_tooltip": null,
       "layout": "IPY_MODEL_ac1b69c2593f422595020939f1ed4133",
       "max": 500.0,
       "min": 0.0,
       "orientation": "horizontal",
       "style": "IPY_MODEL_3774d61c9b75493d9855f25fa4e944be",
       "value": 500.0
      }
     },
     "dbd3cc7b69254298ad3c6faed8a06943": {
      "model_module": "@jupyter-widgets/base",
      "model_module_version": "1.2.0",
      "model_name": "LayoutModel",
      "state": {
       "_model_module": "@jupyter-widgets/base",
       "_model_module_version": "1.2.0",
       "_model_name": "LayoutModel",
       "_view_count": null,
       "_view_module": "@jupyter-widgets/base",
       "_view_module_version": "1.2.0",
       "_view_name": "LayoutView",
       "align_content": null,
       "align_items": null,
       "align_self": null,
       "border": null,
       "bottom": null,
       "display": null,
       "flex": null,
       "flex_flow": null,
       "grid_area": null,
       "grid_auto_columns": null,
       "grid_auto_flow": null,
       "grid_auto_rows": null,
       "grid_column": null,
       "grid_gap": null,
       "grid_row": null,
       "grid_template_areas": null,
       "grid_template_columns": null,
       "grid_template_rows": null,
       "height": null,
       "justify_content": null,
       "justify_items": null,
       "left": null,
       "margin": null,
       "max_height": null,
       "max_width": null,
       "min_height": null,
       "min_width": null,
       "object_fit": null,
       "object_position": null,
       "order": null,
       "overflow": null,
       "overflow_x": null,
       "overflow_y": null,
       "padding": null,
       "right": null,
       "top": null,
       "visibility": null,
       "width": null
      }
     },
     "ddc240164f314f87b433bd43ad13d9c6": {
      "model_module": "@jupyter-widgets/controls",
      "model_module_version": "1.5.0",
      "model_name": "DescriptionStyleModel",
      "state": {
       "_model_module": "@jupyter-widgets/controls",
       "_model_module_version": "1.5.0",
       "_model_name": "DescriptionStyleModel",
       "_view_count": null,
       "_view_module": "@jupyter-widgets/base",
       "_view_module_version": "1.2.0",
       "_view_name": "StyleView",
       "description_width": ""
      }
     },
     "df04ae11d7074717b4610f7202df0beb": {
      "model_module": "@jupyter-widgets/controls",
      "model_module_version": "1.5.0",
      "model_name": "HTMLModel",
      "state": {
       "_dom_classes": [],
       "_model_module": "@jupyter-widgets/controls",
       "_model_module_version": "1.5.0",
       "_model_name": "HTMLModel",
       "_view_count": null,
       "_view_module": "@jupyter-widgets/controls",
       "_view_module_version": "1.5.0",
       "_view_name": "HTMLView",
       "description": "",
       "description_tooltip": null,
       "layout": "IPY_MODEL_d0ec70056fcd49be977f2057888b85e8",
       "placeholder": "​",
       "style": "IPY_MODEL_4ea3d7ea9b0744dabe3f91559cb02db0",
       "value": " 929/929 [00:00&lt;00:00, 63.3kB/s]"
      }
     },
     "e20e7759bd7a4310989820022f2f59d8": {
      "model_module": "@jupyter-widgets/controls",
      "model_module_version": "1.5.0",
      "model_name": "DescriptionStyleModel",
      "state": {
       "_model_module": "@jupyter-widgets/controls",
       "_model_module_version": "1.5.0",
       "_model_name": "DescriptionStyleModel",
       "_view_count": null,
       "_view_module": "@jupyter-widgets/base",
       "_view_module_version": "1.2.0",
       "_view_name": "StyleView",
       "description_width": ""
      }
     },
     "e49a27013d24407b8b616a360510c99f": {
      "model_module": "@jupyter-widgets/controls",
      "model_module_version": "1.5.0",
      "model_name": "ProgressStyleModel",
      "state": {
       "_model_module": "@jupyter-widgets/controls",
       "_model_module_version": "1.5.0",
       "_model_name": "ProgressStyleModel",
       "_view_count": null,
       "_view_module": "@jupyter-widgets/base",
       "_view_module_version": "1.2.0",
       "_view_name": "StyleView",
       "bar_color": null,
       "description_width": ""
      }
     },
     "e6c9db33250e46b498ca56f49d0f2722": {
      "model_module": "@jupyter-widgets/controls",
      "model_module_version": "1.5.0",
      "model_name": "DescriptionStyleModel",
      "state": {
       "_model_module": "@jupyter-widgets/controls",
       "_model_module_version": "1.5.0",
       "_model_name": "DescriptionStyleModel",
       "_view_count": null,
       "_view_module": "@jupyter-widgets/base",
       "_view_module_version": "1.2.0",
       "_view_name": "StyleView",
       "description_width": ""
      }
     },
     "e8e3c2b43dbe4f56a48af1043cfee40e": {
      "model_module": "@jupyter-widgets/controls",
      "model_module_version": "1.5.0",
      "model_name": "HTMLModel",
      "state": {
       "_dom_classes": [],
       "_model_module": "@jupyter-widgets/controls",
       "_model_module_version": "1.5.0",
       "_model_name": "HTMLModel",
       "_view_count": null,
       "_view_module": "@jupyter-widgets/controls",
       "_view_module_version": "1.5.0",
       "_view_name": "HTMLView",
       "description": "",
       "description_tooltip": null,
       "layout": "IPY_MODEL_16b52f3304134561b2c827a7543895d7",
       "placeholder": "​",
       "style": "IPY_MODEL_671371ec75e04ba7995d28ae361178dc",
       "value": "100%"
      }
     },
     "ea58b56804504d6497c2e3fb1ecad363": {
      "model_module": "@jupyter-widgets/base",
      "model_module_version": "1.2.0",
      "model_name": "LayoutModel",
      "state": {
       "_model_module": "@jupyter-widgets/base",
       "_model_module_version": "1.2.0",
       "_model_name": "LayoutModel",
       "_view_count": null,
       "_view_module": "@jupyter-widgets/base",
       "_view_module_version": "1.2.0",
       "_view_name": "LayoutView",
       "align_content": null,
       "align_items": null,
       "align_self": null,
       "border": null,
       "bottom": null,
       "display": null,
       "flex": null,
       "flex_flow": null,
       "grid_area": null,
       "grid_auto_columns": null,
       "grid_auto_flow": null,
       "grid_auto_rows": null,
       "grid_column": null,
       "grid_gap": null,
       "grid_row": null,
       "grid_template_areas": null,
       "grid_template_columns": null,
       "grid_template_rows": null,
       "height": null,
       "justify_content": null,
       "justify_items": null,
       "left": null,
       "margin": null,
       "max_height": null,
       "max_width": null,
       "min_height": null,
       "min_width": null,
       "object_fit": null,
       "object_position": null,
       "order": null,
       "overflow": null,
       "overflow_x": null,
       "overflow_y": null,
       "padding": null,
       "right": null,
       "top": null,
       "visibility": null,
       "width": null
      }
     },
     "eea926b79e924eb5b69489efd85146c9": {
      "model_module": "@jupyter-widgets/base",
      "model_module_version": "1.2.0",
      "model_name": "LayoutModel",
      "state": {
       "_model_module": "@jupyter-widgets/base",
       "_model_module_version": "1.2.0",
       "_model_name": "LayoutModel",
       "_view_count": null,
       "_view_module": "@jupyter-widgets/base",
       "_view_module_version": "1.2.0",
       "_view_name": "LayoutView",
       "align_content": null,
       "align_items": null,
       "align_self": null,
       "border": null,
       "bottom": null,
       "display": null,
       "flex": null,
       "flex_flow": null,
       "grid_area": null,
       "grid_auto_columns": null,
       "grid_auto_flow": null,
       "grid_auto_rows": null,
       "grid_column": null,
       "grid_gap": null,
       "grid_row": null,
       "grid_template_areas": null,
       "grid_template_columns": null,
       "grid_template_rows": null,
       "height": null,
       "justify_content": null,
       "justify_items": null,
       "left": null,
       "margin": null,
       "max_height": null,
       "max_width": null,
       "min_height": null,
       "min_width": null,
       "object_fit": null,
       "object_position": null,
       "order": null,
       "overflow": null,
       "overflow_x": null,
       "overflow_y": null,
       "padding": null,
       "right": null,
       "top": null,
       "visibility": null,
       "width": null
      }
     },
     "f3a8b82ef2a441a7af6ee1e7730c56e4": {
      "model_module": "@jupyter-widgets/controls",
      "model_module_version": "1.5.0",
      "model_name": "ProgressStyleModel",
      "state": {
       "_model_module": "@jupyter-widgets/controls",
       "_model_module_version": "1.5.0",
       "_model_name": "ProgressStyleModel",
       "_view_count": null,
       "_view_module": "@jupyter-widgets/base",
       "_view_module_version": "1.2.0",
       "_view_name": "StyleView",
       "bar_color": null,
       "description_width": ""
      }
     },
     "f86194661e7647cb82a04d6421ebc1c8": {
      "model_module": "@jupyter-widgets/base",
      "model_module_version": "1.2.0",
      "model_name": "LayoutModel",
      "state": {
       "_model_module": "@jupyter-widgets/base",
       "_model_module_version": "1.2.0",
       "_model_name": "LayoutModel",
       "_view_count": null,
       "_view_module": "@jupyter-widgets/base",
       "_view_module_version": "1.2.0",
       "_view_name": "LayoutView",
       "align_content": null,
       "align_items": null,
       "align_self": null,
       "border": null,
       "bottom": null,
       "display": null,
       "flex": null,
       "flex_flow": null,
       "grid_area": null,
       "grid_auto_columns": null,
       "grid_auto_flow": null,
       "grid_auto_rows": null,
       "grid_column": null,
       "grid_gap": null,
       "grid_row": null,
       "grid_template_areas": null,
       "grid_template_columns": null,
       "grid_template_rows": null,
       "height": null,
       "justify_content": null,
       "justify_items": null,
       "left": null,
       "margin": null,
       "max_height": null,
       "max_width": null,
       "min_height": null,
       "min_width": null,
       "object_fit": null,
       "object_position": null,
       "order": null,
       "overflow": null,
       "overflow_x": null,
       "overflow_y": null,
       "padding": null,
       "right": null,
       "top": null,
       "visibility": null,
       "width": null
      }
     }
    },
    "version_major": 2,
    "version_minor": 0
   }
  }
 },
 "nbformat": 4,
 "nbformat_minor": 5
}
